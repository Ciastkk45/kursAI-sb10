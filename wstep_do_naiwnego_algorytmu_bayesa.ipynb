{
  "nbformat": 4,
  "nbformat_minor": 0,
  "metadata": {
    "colab": {
      "provenance": [],
      "authorship_tag": "ABX9TyMpuzs6XddUEBPwTi1Je791",
      "include_colab_link": true
    },
    "kernelspec": {
      "name": "python3",
      "display_name": "Python 3"
    },
    "language_info": {
      "name": "python"
    }
  },
  "cells": [
    {
      "cell_type": "markdown",
      "metadata": {
        "id": "view-in-github",
        "colab_type": "text"
      },
      "source": [
        "<a href=\"https://colab.research.google.com/github/Ciastkk45/kursAI-sb10/blob/main/wstep_do_naiwnego_algorytmu_bayesa.ipynb\" target=\"_parent\"><img src=\"https://colab.research.google.com/assets/colab-badge.svg\" alt=\"Open In Colab\"/></a>"
      ]
    },
    {
      "cell_type": "code",
      "execution_count": 15,
      "metadata": {
        "colab": {
          "base_uri": "https://localhost:8080/"
        },
        "id": "4-MsR4NQgj4l",
        "outputId": "e708dbf9-40a6-4e05-e8e2-a959fca75443"
      },
      "outputs": [
        {
          "output_type": "stream",
          "name": "stdout",
          "text": [
            "Liczba  rekordow:   300\n",
            "Liczba unikalnych gier: 5\n",
            "Liczba wpisów dla kazdej  z gier:\n",
            "  minecraft: 60\n",
            "  fortnite: 60\n",
            "  roblox: 60\n",
            "  lol: 60\n",
            "  cs: 60\n",
            "Liczba tagów: 74\n",
            "Liczba tagów występujących tylko raz: 25\n",
            "Liczba tagów występujących więcej niż raz: 49\n",
            "20 najczesciej wystepujacych tagow:\n",
            "  roleplay: 50\n",
            "  crafting: 49\n",
            "  budowanie: 48\n",
            "  klocki: 46\n",
            "  sezon: 46\n",
            "  emotki: 46\n",
            "  loot: 44\n",
            "  rankedy: 44\n",
            "  kopanie: 43\n",
            "  oddziały: 43\n",
            "  karabin: 41\n",
            "  arena: 41\n",
            "  pistolet: 40\n",
            "  waluta: 40\n",
            "  questy: 39\n",
            "  fortyfikacje: 39\n",
            "  symulator: 39\n",
            "  aktualizacja: 39\n",
            "  kolekcje: 38\n",
            "  tryb solo: 38\n"
          ]
        }
      ],
      "source": [
        "import json\n",
        "from pprint import pprint\n",
        "\n",
        "data = None\n",
        "with open(\"tagi_gier_wspoldzielone.json\", encoding=\"utf-8\") as f:\n",
        "  data = json.load(f)\n",
        "\n",
        "label_count = {}\n",
        "for game in data:\n",
        "  label = game[\"label\"]\n",
        "  if label not in label_count:\n",
        "    label_count[label] = 0\n",
        "  label_count[label] += 1\n",
        "\n",
        "print(f\"Liczba  rekordow:   {len(data)}\")\n",
        "print(f\"Liczba unikalnych gier: {len(label_count)}\")\n",
        "print(f\"Liczba wpisów dla kazdej  z gier:\")\n",
        "for label in label_count:\n",
        "  print(f\"  {label}: {label_count[label]}\")\n",
        "\n",
        "#Charakterystyka tagów\n",
        "tag_count = {}\n",
        "tag_to_label = {}\n",
        "for game in data:\n",
        "  label = game[\"label\"]\n",
        "  for tag in game[\"tags\"]:\n",
        "    if tag not in tag_count:\n",
        "        tag_count[tag] = 0\n",
        "    tag_count[tag] += 1\n",
        "\n",
        "    if tag not in tag_to_label:\n",
        "      tag_to_label[tag] = []\n",
        "    if label not in tag_to_label[tag]:\n",
        "      tag_to_label[tag].append(label)\n",
        "\n",
        "\n",
        "      pass\n",
        "\n",
        "\n",
        "only_one = 0\n",
        "multiple = 0\n",
        "for tag in tag_to_label:\n",
        "  label_total = len(tag_to_label[tag])\n",
        "  if label_total == 1:\n",
        "    only_one += 1\n",
        "  else:\n",
        "    multiple += 1\n",
        "  pass\n",
        "\n",
        "print(f\"Liczba tagów: {len(tag_count)}\")\n",
        "print(f\"Liczba tagów występujących tylko raz: {only_one}\")\n",
        "print(f\"Liczba tagów występujących więcej niż raz: {multiple}\")\n",
        "\n",
        "print(\"20 najczesciej wystepujacych tagow:\")\n",
        "sorted_tags = sorted(tag_count.items(), key=lambda x: x[1], reverse=True)\n",
        "for tag in sorted_tags[:20]:\n",
        "  print(f\"  {tag[0]}: {tag[1]}\")"
      ]
    },
    {
      "cell_type": "code",
      "source": [
        "import json,random,math\n",
        "\n",
        "def load_data(path):\n",
        "  with open(\"tagi_gier_wspoldzielone.json\", encoding=\"utf-8\") as f:\n",
        "    return json.load(f)\n",
        "\n",
        "def train_test_split(data, test_size = 0.2):\n",
        "  random.shuffle(data)\n",
        "  cut = int(len(data) * (1-test_size))\n",
        "  print(f\"Liczba rekordow w zbiorze treningowym: {len(data[:cut])}\")\n",
        "  print(f\"Liczba rekordow w zbiorze testowym: {len(data[cut:])}\")\n",
        "  return data[:cut], data[cut:]\n",
        "\n",
        "\n",
        "def build_vocabulary(train):\n",
        "  vocab = set()\n",
        "  for game in train:\n",
        "    vocab.update(game[\"tags\"])\n",
        "  return vocab"
      ],
      "metadata": {
        "id": "akr3cP3RkfSQ"
      },
      "execution_count": 21,
      "outputs": []
    },
    {
      "cell_type": "code",
      "source": [
        "def main():\n",
        "  path = \"tagi_gier_wspoldzielone.json\"\n",
        "  data == load_data(path)\n",
        "  train, test = train_test_split(data)\n",
        "  vocab = build_vocabulary(train)\n",
        "  pass\n",
        "\n",
        "if __name__ == \"__main__\":\n",
        "  main()"
      ],
      "metadata": {
        "colab": {
          "base_uri": "https://localhost:8080/"
        },
        "id": "bll05bgPrCI8",
        "outputId": "682bd503-669f-403d-baca-d4804e4fb079"
      },
      "execution_count": 32,
      "outputs": [
        {
          "output_type": "stream",
          "name": "stdout",
          "text": [
            "Liczba rekordow w zbiorze treningowym: 240\n",
            "Liczba rekordow w zbiorze testowym: 60\n",
            "{'symulator', 'nexus', 'v-bucksy', 'hardcore', 'online', 'burza', 'esport', 'redstone', 'prywatny serwer', 'event', 'sandbox', 'obby', 'runy', 'pistolet', 'ulti', 'strzał w głowę', 'bomba', 'awp', 'kolekcje', 'rankedy', 'questy', 'sklep', 'waluta', 'drużyna', 'crafting', 'tryb solo', 'kopanie', 'smok', 'flash', 'wyzwania', 'arena', 'skiny', 'zombie', 'tryb', 'tickrate', 'karabin', 'dżungla', 'robuxy', 'fortyfikacje', 'brokhaven', 'battle', 'survival', 'slurp', 'lua', 'klocki', 'tryb kreatywny', 'nether', 'duety', 'emotki', 'sezon', 'parkour', 'strzelanie', 'rankingi', 'creepery', 'misje', 'diamenty', 'baron', 'roleplay', 'dust2', 'wydarzenia', 'multiplayer', 'bohaterowie', 'biomy', 'snajper', 'autobus bojowy', 'studio', 'oddziały', 'mapa', 'czat', 'lama', 'przetrwanie', 'aktualizacja', 'budowanie', 'loot'}\n"
          ]
        }
      ]
    }
  ]
}