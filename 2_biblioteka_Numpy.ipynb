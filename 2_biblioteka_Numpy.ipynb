{
  "nbformat": 4,
  "nbformat_minor": 0,
  "metadata": {
    "colab": {
      "provenance": [],
      "authorship_tag": "ABX9TyNkEgwZUXEahR4KEfRg9D6V",
      "include_colab_link": true
    },
    "kernelspec": {
      "name": "python3",
      "display_name": "Python 3"
    },
    "language_info": {
      "name": "python"
    }
  },
  "cells": [
    {
      "cell_type": "markdown",
      "metadata": {
        "id": "view-in-github",
        "colab_type": "text"
      },
      "source": [
        "<a href=\"https://colab.research.google.com/github/Ciastkk45/kursAI-sb10/blob/main/2_biblioteka_Numpy.ipynb\" target=\"_parent\"><img src=\"https://colab.research.google.com/assets/colab-badge.svg\" alt=\"Open In Colab\"/></a>"
      ]
    },
    {
      "cell_type": "code",
      "execution_count": null,
      "metadata": {
        "colab": {
          "base_uri": "https://localhost:8080/"
        },
        "id": "8v5Q-aEoJDRl",
        "outputId": "e6f2336e-0be1-4deb-af02-9849e41f2449"
      },
      "outputs": [
        {
          "output_type": "stream",
          "name": "stdout",
          "text": [
            "Python 3.11.11\n"
          ]
        }
      ],
      "source": [
        "!python --version\n"
      ]
    },
    {
      "cell_type": "code",
      "source": [
        "!pip freeze | grep numpy"
      ],
      "metadata": {
        "colab": {
          "base_uri": "https://localhost:8080/"
        },
        "id": "c0OWpdcMK4XQ",
        "outputId": "ffd729b1-0d6f-4149-ce03-bc0391a5b41e"
      },
      "execution_count": null,
      "outputs": [
        {
          "output_type": "stream",
          "name": "stdout",
          "text": [
            "numpy==1.26.4\n"
          ]
        }
      ]
    },
    {
      "cell_type": "code",
      "source": [
        "# ważne - importowanie numpy\n",
        "import numpy as np\n",
        "\n",
        "#tworzenie tablicy\n",
        "array = np.array([1,2,3,4,5,6,7,8,9,10,11,12])\n",
        "print(array)\n",
        "print(f\"Kształt tablicy: {np.shape(array)}\")\n",
        "\n",
        "array2x6 = array.reshape(2,6)\n",
        "print(\"Array 2x6\")\n",
        "print(array2x6)\n",
        "print(f\"Array2x6 - ksztalt: {np.shape(array2x6)}\")\n",
        "\n"
      ],
      "metadata": {
        "colab": {
          "base_uri": "https://localhost:8080/"
        },
        "id": "VQcayfS1K7HC",
        "outputId": "66369ec8-9d92-4dc8-dd94-08c302275776"
      },
      "execution_count": 2,
      "outputs": [
        {
          "output_type": "stream",
          "name": "stdout",
          "text": [
            "[ 1  2  3  4  5  6  7  8  9 10 11 12]\n",
            "Kształt tablicy: (12,)\n",
            "Array 2x6\n",
            "[[ 1  2  3  4  5  6]\n",
            " [ 7  8  9 10 11 12]]\n",
            "Array2x6 - ksztalt: (2, 6)\n"
          ]
        }
      ]
    },
    {
      "cell_type": "code",
      "source": [
        "array3x4 = array.reshape(3,4)\n",
        "print(\"Array 3x4\")\n",
        "print(array3x4)\n",
        "print(f\"Array3x4 - ksztalt: {np.shape(array3x4)}\")"
      ],
      "metadata": {
        "colab": {
          "base_uri": "https://localhost:8080/"
        },
        "id": "45Z0w-HRNi59",
        "outputId": "ee3b5b92-9517-47f8-f420-c5bee6d79b18"
      },
      "execution_count": null,
      "outputs": [
        {
          "output_type": "stream",
          "name": "stdout",
          "text": [
            "Array 3x4\n",
            "[[ 1  2  3  4]\n",
            " [ 5  6  7  8]\n",
            " [ 9 10 11 12]]\n",
            "Array3x4 - ksztalt: (3, 4)\n"
          ]
        }
      ]
    },
    {
      "cell_type": "code",
      "source": [
        "array2x2x3 = array.reshape(2,2,3)\n",
        "print(\"Array 2x2x3\")\n",
        "print(array2x2x3)\n",
        "print(f\"Array2x2x3 - ksztalt: {np.shape(array2x2x3)}\")"
      ],
      "metadata": {
        "colab": {
          "base_uri": "https://localhost:8080/"
        },
        "id": "59ZqBK0KOZSQ",
        "outputId": "8c95f502-51e9-4207-e236-adcc72e62da4"
      },
      "execution_count": null,
      "outputs": [
        {
          "output_type": "stream",
          "name": "stdout",
          "text": [
            "Array 2x2x3\n",
            "[[[ 1  2  3]\n",
            "  [ 4  5  6]]\n",
            "\n",
            " [[ 7  8  9]\n",
            "  [10 11 12]]]\n",
            "Array2x2x3 - ksztalt: (2, 2, 3)\n"
          ]
        }
      ]
    },
    {
      "cell_type": "code",
      "source": [
        "unsorted1D = np.array([3,6,2,4])\n",
        "print(unsorted1D)\n",
        "sorted1D = np.sort(unsorted1D)\n",
        "print(sorted1D)"
      ],
      "metadata": {
        "colab": {
          "base_uri": "https://localhost:8080/"
        },
        "id": "oa7ag0lhQCMo",
        "outputId": "95722cb9-0553-497e-b21f-2975db53489e"
      },
      "execution_count": null,
      "outputs": [
        {
          "output_type": "stream",
          "name": "stdout",
          "text": [
            "[3 6 2 4]\n",
            "[2 3 4 6]\n"
          ]
        }
      ]
    },
    {
      "cell_type": "code",
      "source": [
        "unsorted2D = np.array([[7,2,9],\n",
        "                       [4,8,1],\n",
        "                       [5,6,3]])\n",
        "print(unsorted2D)\n",
        "sorted2D_axis0 = np.sort(unsorted2D, axis = 0)\n",
        "print(f\"Tablica posortowana po osi 0:\\n{sorted2D_axis0}\")\n",
        "sorted2D_axis1 = np.sort(unsorted2D, axis = 1)\n",
        "print(f\"Tablica posortowana po osi 1:\\n{sorted2D_axis1}\")"
      ],
      "metadata": {
        "colab": {
          "base_uri": "https://localhost:8080/"
        },
        "id": "SsslEAllQhaN",
        "outputId": "4d0c16eb-6509-4708-b60f-66d2de759869"
      },
      "execution_count": null,
      "outputs": [
        {
          "output_type": "stream",
          "name": "stdout",
          "text": [
            "[[7 2 9]\n",
            " [4 8 1]\n",
            " [5 6 3]]\n",
            "Tablica posortowana po osi 0:\n",
            "[[4 2 1]\n",
            " [5 6 3]\n",
            " [7 8 9]]\n",
            "Tablica posortowana po osi 1:\n",
            "[[2 7 9]\n",
            " [1 4 8]\n",
            " [3 5 6]]\n"
          ]
        }
      ]
    },
    {
      "cell_type": "code",
      "source": [
        "player_data = np.array([\n",
        "    (\"Faker\", \"T1\", 5),\n",
        "    (\"TheSky\", \"Weibo Gaming\", 1),\n",
        "    (\"Uzi\", \"Emerytowany\", 0)\n",
        "], dtype = [(\"Nick\", \"U30\"), (\"Team\", \"U30\"), (\"Worlds Title count\", \"i4\")])\n",
        "\n",
        "print(player_data)\n",
        "#sortowanie po kolumnie o nazwie Team\n",
        "print(np.sort(player_data, order =\"Team\"))"
      ],
      "metadata": {
        "colab": {
          "base_uri": "https://localhost:8080/"
        },
        "id": "0wLSlf-7AfY2",
        "outputId": "7a4584fe-fe5f-486b-8887-2070165d5c75"
      },
      "execution_count": 4,
      "outputs": [
        {
          "output_type": "stream",
          "name": "stdout",
          "text": [
            "[('Faker', 'T1', 5) ('TheSky', 'Weibo Gaming', 1)\n",
            " ('Uzi', 'Emerytowany', 0)]\n",
            "[('Uzi', 'Emerytowany', 0) ('Faker', 'T1', 5)\n",
            " ('TheSky', 'Weibo Gaming', 1)]\n"
          ]
        }
      ]
    },
    {
      "cell_type": "code",
      "source": [
        "#random\n",
        "from numpy import random\n",
        "\n",
        "#<1, 11) int\n",
        "for i in range(10):\n",
        "  print(random.randint(1, 11))\n",
        "\n",
        "# <0,1) float\n",
        "  for i in range(10):\n",
        "    print(random.rand()*10)"
      ],
      "metadata": {
        "colab": {
          "base_uri": "https://localhost:8080/"
        },
        "id": "QIk26KtECUpl",
        "outputId": "3aff69a9-8b0d-4781-ea43-18deb67517f6"
      },
      "execution_count": 15,
      "outputs": [
        {
          "output_type": "stream",
          "name": "stdout",
          "text": [
            "6\n",
            "1.9616111565020844\n",
            "7.195096896491705\n",
            "1.5464822456578686\n",
            "2.4531324483494776\n",
            "4.727995120557292\n",
            "2.218668432359805\n",
            "8.658397569147478\n",
            "3.359324548045902\n",
            "3.132117413560891\n",
            "2.2398420627429605\n",
            "10\n",
            "9.75134582165926\n",
            "9.338196739581505\n",
            "8.982326700334253\n",
            "1.5397237434559685\n",
            "3.5880983626090512\n",
            "2.9237236581507844\n",
            "1.3584091380236307\n",
            "1.4634804631101617\n",
            "6.665652541503057\n",
            "5.783949341612567\n",
            "1\n",
            "7.400666281334009\n",
            "9.182846430368677\n",
            "9.357396528987298\n",
            "8.400008390661597\n",
            "2.4110586406364156\n",
            "9.999164176092737\n",
            "4.727207925081652\n",
            "6.7591641384775\n",
            "0.8417061577759832\n",
            "4.823332161220143\n",
            "9\n",
            "2.6053470097335607\n",
            "6.002605319249331\n",
            "8.593617643080528\n",
            "0.43089108254430797\n",
            "9.250486726068516\n",
            "2.941525775495374\n",
            "7.040293688212845\n",
            "7.171932668717007\n",
            "2.6225387499689115\n",
            "2.3886810093689603\n",
            "6\n",
            "3.547052239792936\n",
            "7.652178454011674\n",
            "9.5029742354771\n",
            "2.6195180795984205\n",
            "5.473585994546132\n",
            "1.666279099036646\n",
            "2.579034902267474\n",
            "2.528471872882545\n",
            "6.2838125616428675\n",
            "6.521832967208189\n",
            "8\n",
            "3.026515015989739\n",
            "7.828255197446953\n",
            "3.128865640293065\n",
            "6.500126825888431\n",
            "8.970011663846591\n",
            "7.908540109178014\n",
            "9.529451532951205\n",
            "6.970737180513807\n",
            "2.3927776502236364\n",
            "8.232362251384986\n",
            "4\n",
            "0.7939295425279791\n",
            "9.423580410973788\n",
            "3.053343155694086\n",
            "8.624566346352355\n",
            "7.818991678141183\n",
            "6.487091959962222\n",
            "6.845022541468242\n",
            "8.70590981218832\n",
            "5.571048492542782\n",
            "8.289679883940202\n",
            "8\n",
            "5.017837716496104\n",
            "9.495023519392186\n",
            "3.416402940520298\n",
            "3.94778467442783\n",
            "6.7033762096023475\n",
            "3.7364164884099402\n",
            "0.8990511663910938\n",
            "0.3187880008689181\n",
            "4.486929311012072\n",
            "1.612565131665229\n",
            "2\n",
            "0.8070881772774063\n",
            "6.881543746247793\n",
            "1.6201944751691677\n",
            "4.063118313007532\n",
            "1.4112309726028294\n",
            "4.104138123466575\n",
            "9.400992879590252\n",
            "7.32969178412075\n",
            "6.823005766338273\n",
            "5.725933072098533\n",
            "7\n",
            "9.533415627676941\n",
            "4.1129995521150615\n",
            "3.1834201076014237\n",
            "1.1511544992892453\n",
            "2.124789287705399\n",
            "7.161883458927566\n",
            "9.30537009643809\n",
            "8.672134694310534\n",
            "6.3053524110822\n",
            "6.552027620904308\n"
          ]
        }
      ]
    },
    {
      "cell_type": "code",
      "source": [
        "lista = [1,2,3,4]\n",
        "\n",
        "print(random.choice(lista, 3))"
      ],
      "metadata": {
        "colab": {
          "base_uri": "https://localhost:8080/"
        },
        "id": "pM4etNamDbWG",
        "outputId": "cd190aff-b7ef-4083-f395-8efa56d4fb75"
      },
      "execution_count": 26,
      "outputs": [
        {
          "output_type": "stream",
          "name": "stdout",
          "text": [
            "[1 1 2]\n"
          ]
        }
      ]
    },
    {
      "cell_type": "code",
      "source": [
        "array1D =  np.array([1,2,3,4,5,6,7,8,9])\n",
        "\n",
        "#elementy do indeksu 4 włącznie\n",
        "print(array1D[:5])\n",
        "\n",
        "#elementy do indeksu od indeksu 2 do indeksu 4 włącznie\n",
        "print(array1D[2:5])\n",
        "\n",
        "#elementy do indeksu od indeksu 2 do końca\n",
        "print(array1D[2:])\n",
        "\n",
        "#elementy od 3 od końca do przedostatniego\n",
        "print(array1D[-3:-1])"
      ],
      "metadata": {
        "colab": {
          "base_uri": "https://localhost:8080/"
        },
        "id": "zs0Zyi52EGtn",
        "outputId": "ebb5db7c-d46a-423d-9492-870d7d6dad0e"
      },
      "execution_count": 37,
      "outputs": [
        {
          "output_type": "stream",
          "name": "stdout",
          "text": [
            "[1 2 3 4 5]\n",
            "[3 4 5]\n",
            "[3 4 5 6 7 8 9]\n",
            "[7 8]\n"
          ]
        }
      ]
    },
    {
      "cell_type": "code",
      "source": [
        "array2D = np.array([\n",
        "    [1,2,3,4,5],\n",
        "    [6,7,8,9,10],\n",
        "    [11,12,13,14,15]\n",
        "])\n",
        "\n",
        "print(array2D[2,1])\n",
        "print(array2D[:,2:4])\n",
        "print(array2D[0:2,2:4])\n",
        "\n",
        "for i in np.nditer(array2D):\n",
        "  print(i)"
      ],
      "metadata": {
        "colab": {
          "base_uri": "https://localhost:8080/"
        },
        "id": "M2B7zy0jFR5P",
        "outputId": "36474302-7690-43e9-b43f-df0fd27c392e"
      },
      "execution_count": 43,
      "outputs": [
        {
          "output_type": "stream",
          "name": "stdout",
          "text": [
            "12\n",
            "[[ 3  4]\n",
            " [ 8  9]\n",
            " [13 14]]\n",
            "[[3 4]\n",
            " [8 9]]\n",
            "1\n",
            "2\n",
            "3\n",
            "4\n",
            "5\n",
            "6\n",
            "7\n",
            "8\n",
            "9\n",
            "10\n",
            "11\n",
            "12\n",
            "13\n",
            "14\n",
            "15\n"
          ]
        }
      ]
    },
    {
      "cell_type": "code",
      "source": [
        "array2D = np.array([\n",
        "    [1,2,3,4,5],\n",
        "    [6,7,8,9,10],\n",
        "    [11,12,13,14,6]\n",
        "])\n",
        "\n",
        "result = np.where(array2D == 6)\n",
        "print(result)\n",
        "\n",
        "result = np.where(array2D % 2 == 0, True, False)\n",
        "print(result)\n",
        "\n",
        "filtered = array2D[result]\n",
        "print(filtered)"
      ],
      "metadata": {
        "colab": {
          "base_uri": "https://localhost:8080/"
        },
        "id": "7wHxcaAtG1o7",
        "outputId": "4fcb9361-1bfc-4023-fe27-0d8baa7c6add"
      },
      "execution_count": 46,
      "outputs": [
        {
          "output_type": "stream",
          "name": "stdout",
          "text": [
            "(array([1, 2]), array([0, 4]))\n",
            "[[False  True False  True False]\n",
            " [ True False  True False  True]\n",
            " [False  True False  True  True]]\n",
            "[ 2  4  6  8 10 12 14  6]\n"
          ]
        }
      ]
    }
  ]
}