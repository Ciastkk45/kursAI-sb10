{
  "nbformat": 4,
  "nbformat_minor": 0,
  "metadata": {
    "colab": {
      "provenance": [],
      "authorship_tag": "ABX9TyNd1ds1QTJJOSMb0OuXkdNb",
      "include_colab_link": true
    },
    "kernelspec": {
      "name": "python3",
      "display_name": "Python 3"
    },
    "language_info": {
      "name": "python"
    }
  },
  "cells": [
    {
      "cell_type": "markdown",
      "metadata": {
        "id": "view-in-github",
        "colab_type": "text"
      },
      "source": [
        "<a href=\"https://colab.research.google.com/github/Ciastkk45/kursAI-sb10/blob/main/7_titanic.ipynb\" target=\"_parent\"><img src=\"https://colab.research.google.com/assets/colab-badge.svg\" alt=\"Open In Colab\"/></a>"
      ]
    },
    {
      "cell_type": "code",
      "execution_count": null,
      "metadata": {
        "id": "5iO0ySINJ9qx"
      },
      "outputs": [],
      "source": [
        "import seaborn as sns\n",
        "import pandas as pd\n",
        "import matplotlib.pyplot as plt\n",
        "import numpy as np\n",
        "from scipy import stats\n",
        "from sklearn.model_selection import train_test_split\n",
        "from sklearn.preprocessing import StandardScaler\n",
        "from sklearn.linear_model import LogisticRegression\n",
        "from sklearn.metrics import accuracy_score, classification_report, confusion_matrix"
      ]
    },
    {
      "cell_type": "code",
      "source": [
        "df = sns.load_dataset('titanic')\n",
        "print(f\"Pierwsze 10 wpisów z zestawu  Titanic:\")\n",
        "print(df.head(10))"
      ],
      "metadata": {
        "colab": {
          "base_uri": "https://localhost:8080/"
        },
        "id": "L86D5SrLLFuZ",
        "outputId": "787cc33f-e044-4ec0-cc29-9b62eefcc85c"
      },
      "execution_count": null,
      "outputs": [
        {
          "output_type": "stream",
          "name": "stdout",
          "text": [
            "Pierwsze 10 wpisów z zestawu  Titanic:\n",
            "   survived  pclass     sex   age  sibsp  parch     fare embarked   class  \\\n",
            "0         0       3    male  22.0      1      0   7.2500        S   Third   \n",
            "1         1       1  female  38.0      1      0  71.2833        C   First   \n",
            "2         1       3  female  26.0      0      0   7.9250        S   Third   \n",
            "3         1       1  female  35.0      1      0  53.1000        S   First   \n",
            "4         0       3    male  35.0      0      0   8.0500        S   Third   \n",
            "5         0       3    male   NaN      0      0   8.4583        Q   Third   \n",
            "6         0       1    male  54.0      0      0  51.8625        S   First   \n",
            "7         0       3    male   2.0      3      1  21.0750        S   Third   \n",
            "8         1       3  female  27.0      0      2  11.1333        S   Third   \n",
            "9         1       2  female  14.0      1      0  30.0708        C  Second   \n",
            "\n",
            "     who  adult_male deck  embark_town alive  alone  \n",
            "0    man        True  NaN  Southampton    no  False  \n",
            "1  woman       False    C    Cherbourg   yes  False  \n",
            "2  woman       False  NaN  Southampton   yes   True  \n",
            "3  woman       False    C  Southampton   yes  False  \n",
            "4    man        True  NaN  Southampton    no   True  \n",
            "5    man        True  NaN   Queenstown    no   True  \n",
            "6    man        True    E  Southampton    no   True  \n",
            "7  child       False  NaN  Southampton    no  False  \n",
            "8  woman       False  NaN  Southampton   yes  False  \n",
            "9  child       False  NaN    Cherbourg   yes  False  \n"
          ]
        }
      ]
    },
    {
      "cell_type": "code",
      "source": [
        "print(f\"Liczba brakujących wartości przed czyszczeniem:\")\n",
        "print(df.isnull().sum())"
      ],
      "metadata": {
        "colab": {
          "base_uri": "https://localhost:8080/"
        },
        "id": "Amoef4TsLFnj",
        "outputId": "98f70d47-6d80-40ff-bd8e-e0df9f30d178"
      },
      "execution_count": null,
      "outputs": [
        {
          "output_type": "stream",
          "name": "stdout",
          "text": [
            "Liczba brakujących wartości przed czyszczeniem:\n",
            "survived         0\n",
            "pclass           0\n",
            "sex              0\n",
            "age            177\n",
            "sibsp            0\n",
            "parch            0\n",
            "fare             0\n",
            "embarked         2\n",
            "class            0\n",
            "who              0\n",
            "adult_male       0\n",
            "deck           688\n",
            "embark_town      2\n",
            "alive            0\n",
            "alone            0\n",
            "dtype: int64\n"
          ]
        }
      ]
    },
    {
      "cell_type": "code",
      "source": [
        "df = df.dropna(subset=[\"age\"])\n",
        "print(f\"Liczba brakujących wartości po czyszczeniu (dla kolumny age):\")\n",
        "print(df.isnull().sum())"
      ],
      "metadata": {
        "colab": {
          "base_uri": "https://localhost:8080/"
        },
        "id": "3RyjlXwpMlfF",
        "outputId": "b7d3f094-a1ed-4fde-dab5-c06bba57bb14"
      },
      "execution_count": null,
      "outputs": [
        {
          "output_type": "stream",
          "name": "stdout",
          "text": [
            "Liczba brakujących wartości po czyszczeniu (dla kolumny age):\n",
            "survived         0\n",
            "pclass           0\n",
            "sex              0\n",
            "age              0\n",
            "sibsp            0\n",
            "parch            0\n",
            "fare             0\n",
            "embarked         2\n",
            "class            0\n",
            "who              0\n",
            "adult_male       0\n",
            "deck           530\n",
            "embark_town      2\n",
            "alive            0\n",
            "alone            0\n",
            "dtype: int64\n"
          ]
        }
      ]
    },
    {
      "cell_type": "code",
      "source": [
        "print(f\"Min bliet:{df['fare'].min()}\")\n",
        "print(f\"Max bliet:{df['fare'].max()}\")\n",
        "\n",
        "def categorized_fare(fare, fare_range):\n",
        "  if fare <= fare_range[0]:\n",
        "    return 0 # kat niska biletu\n",
        "  elif fare <= fare_range[1]:\n",
        "    return 1 # kat średnia biletu\n",
        "  else:\n",
        "    return 2 # kat wysoka biletu\n",
        "  pass\n",
        "min_fare = df['fare'].min()\n",
        "max_fare = df['fare'].max()\n",
        "fare_step = (max_fare - min_fare) / 3\n",
        "fare_range = [min_fare + fare_step, min_fare + 2 * fare_step]\n",
        "print(f\"Przedziały cenowe biletów:\")\n",
        "print(f\"Niska:{min_fare:.2f} - {fare_range[0]:.2f}\")\n",
        "print(f\"Średnia:{fare_range[0]:.2f} - {fare_range[1]:.2f}\")\n",
        "print(f\"Wysoka:{fare_range[1]:.2f} - {max_fare:.2f}\")"
      ],
      "metadata": {
        "colab": {
          "base_uri": "https://localhost:8080/"
        },
        "id": "4P7RtGT9NNY-",
        "outputId": "404e1e58-8133-4b68-ae9b-2d3d914c304d"
      },
      "execution_count": 8,
      "outputs": [
        {
          "output_type": "stream",
          "name": "stdout",
          "text": [
            "Min bliet:0.0\n",
            "Max bliet:512.3292\n",
            "Przedziały cenowe biletów:\n",
            "Niska:0.00 - 170.78\n",
            "Średnia:170.78 - 341.55\n",
            "Wysoka:341.55 - 512.33\n"
          ]
        }
      ]
    },
    {
      "cell_type": "code",
      "source": [
        "selected_features = [\"sex\", \"age\", \"pclass\", \"fare_category\"]\n",
        "df_model = df.copy()\n",
        "df_model[\"sex\"] = df_model[\"sex\"].map({\"male\": 0, \"female\": 1})\n",
        "df_model[\"fare_category\"] = df_model[\"fare\"].apply(lambda x: categorized_fare(x, fare_range))\n",
        "print(df_model.groupby([\"fare_category\"]).count())\n"
      ],
      "metadata": {
        "colab": {
          "base_uri": "https://localhost:8080/"
        },
        "id": "rS-GQd7zQ-5f",
        "outputId": "829f9842-cd4f-4100-e6ed-b4e9b3bf56cc"
      },
      "execution_count": 16,
      "outputs": [
        {
          "output_type": "stream",
          "name": "stdout",
          "text": [
            "               survived  pclass  sex  age  sibsp  parch  fare  embarked  \\\n",
            "fare_category                                                             \n",
            "0                   696     696  696  696    696    696   696       694   \n",
            "1                    15      15   15   15     15     15    15        15   \n",
            "2                     3       3    3    3      3      3     3         3   \n",
            "\n",
            "               class  who  adult_male  deck  embark_town  alive  alone  \n",
            "fare_category                                                           \n",
            "0                696  696         696   168          694    696    696  \n",
            "1                 15   15          15    14           15     15     15  \n",
            "2                  3    3           3     2            3      3      3  \n"
          ]
        }
      ]
    },
    {
      "cell_type": "code",
      "source": [
        "x = df_model[selected_features]\n",
        "y = df_model[\"survived\"]\n",
        "x_train,x_test, y_train,y_test = train_test_split(x, y, test_size=0.2, random_state = 42)\n"
      ],
      "metadata": {
        "id": "6m_xUe5LT5vO"
      },
      "execution_count": 21,
      "outputs": []
    },
    {
      "cell_type": "code",
      "source": [
        "#standaryzajca danych\n",
        "scaler = StandardScaler()\n",
        "X_train_scaled = scaler.fit_transform(x_train)\n",
        "X_test_scaled = scaler.transform(x_test)"
      ],
      "metadata": {
        "id": "xRt8jC4bWmTO"
      },
      "execution_count": 20,
      "outputs": []
    }
  ]
}