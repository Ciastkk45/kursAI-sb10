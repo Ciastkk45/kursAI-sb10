{
  "nbformat": 4,
  "nbformat_minor": 0,
  "metadata": {
    "colab": {
      "provenance": [],
      "authorship_tag": "ABX9TyMmcUv3NNN1CX0kDSsv5mSH",
      "include_colab_link": true
    },
    "kernelspec": {
      "name": "python3",
      "display_name": "Python 3"
    },
    "language_info": {
      "name": "python"
    }
  },
  "cells": [
    {
      "cell_type": "markdown",
      "metadata": {
        "id": "view-in-github",
        "colab_type": "text"
      },
      "source": [
        "<a href=\"https://colab.research.google.com/github/Ciastkk45/kursAI-sb10/blob/main/7_titanic.ipynb\" target=\"_parent\"><img src=\"https://colab.research.google.com/assets/colab-badge.svg\" alt=\"Open In Colab\"/></a>"
      ]
    },
    {
      "cell_type": "code",
      "execution_count": 19,
      "metadata": {
        "id": "5iO0ySINJ9qx"
      },
      "outputs": [],
      "source": [
        "import seaborn as sns\n",
        "import pandas as pd\n",
        "import matplotlib.pyplot as plt\n",
        "import numpy as np\n",
        "from scipy import stats\n",
        "from sklearn.model_selection import train_test_split\n",
        "from sklearn.preprocessing import StandardScaler\n",
        "from sklearn.linear_model import LogisticRegression\n",
        "from sklearn.metrics import accuracy_score, classification_report, confusion_matrix\n",
        "import sklearn"
      ]
    },
    {
      "cell_type": "code",
      "source": [
        "df = sns.load_dataset('titanic')\n",
        "print(f\"Pierwsze 10 wpisów z zestawu  Titanic:\")\n",
        "print(df.head(10))"
      ],
      "metadata": {
        "colab": {
          "base_uri": "https://localhost:8080/"
        },
        "id": "L86D5SrLLFuZ",
        "outputId": "4cc299c7-8b77-461c-d1dd-5fc476cefed5"
      },
      "execution_count": 2,
      "outputs": [
        {
          "output_type": "stream",
          "name": "stdout",
          "text": [
            "Pierwsze 10 wpisów z zestawu  Titanic:\n",
            "   survived  pclass     sex   age  sibsp  parch     fare embarked   class  \\\n",
            "0         0       3    male  22.0      1      0   7.2500        S   Third   \n",
            "1         1       1  female  38.0      1      0  71.2833        C   First   \n",
            "2         1       3  female  26.0      0      0   7.9250        S   Third   \n",
            "3         1       1  female  35.0      1      0  53.1000        S   First   \n",
            "4         0       3    male  35.0      0      0   8.0500        S   Third   \n",
            "5         0       3    male   NaN      0      0   8.4583        Q   Third   \n",
            "6         0       1    male  54.0      0      0  51.8625        S   First   \n",
            "7         0       3    male   2.0      3      1  21.0750        S   Third   \n",
            "8         1       3  female  27.0      0      2  11.1333        S   Third   \n",
            "9         1       2  female  14.0      1      0  30.0708        C  Second   \n",
            "\n",
            "     who  adult_male deck  embark_town alive  alone  \n",
            "0    man        True  NaN  Southampton    no  False  \n",
            "1  woman       False    C    Cherbourg   yes  False  \n",
            "2  woman       False  NaN  Southampton   yes   True  \n",
            "3  woman       False    C  Southampton   yes  False  \n",
            "4    man        True  NaN  Southampton    no   True  \n",
            "5    man        True  NaN   Queenstown    no   True  \n",
            "6    man        True    E  Southampton    no   True  \n",
            "7  child       False  NaN  Southampton    no  False  \n",
            "8  woman       False  NaN  Southampton   yes  False  \n",
            "9  child       False  NaN    Cherbourg   yes  False  \n"
          ]
        }
      ]
    },
    {
      "cell_type": "code",
      "source": [
        "print(f\"Liczba brakujących wartości przed czyszczeniem:\")\n",
        "print(df.isnull().sum())"
      ],
      "metadata": {
        "colab": {
          "base_uri": "https://localhost:8080/"
        },
        "id": "Amoef4TsLFnj",
        "outputId": "ce6ac8df-a2f1-4a8c-d8bd-05a9ee5bb9e4"
      },
      "execution_count": 3,
      "outputs": [
        {
          "output_type": "stream",
          "name": "stdout",
          "text": [
            "Liczba brakujących wartości przed czyszczeniem:\n",
            "survived         0\n",
            "pclass           0\n",
            "sex              0\n",
            "age            177\n",
            "sibsp            0\n",
            "parch            0\n",
            "fare             0\n",
            "embarked         2\n",
            "class            0\n",
            "who              0\n",
            "adult_male       0\n",
            "deck           688\n",
            "embark_town      2\n",
            "alive            0\n",
            "alone            0\n",
            "dtype: int64\n"
          ]
        }
      ]
    },
    {
      "cell_type": "code",
      "source": [
        "df = df.dropna(subset=[\"age\"])\n",
        "print(f\"Liczba brakujących wartości po czyszczeniu (dla kolumny age):\")\n",
        "print(df.isnull().sum())"
      ],
      "metadata": {
        "colab": {
          "base_uri": "https://localhost:8080/"
        },
        "id": "3RyjlXwpMlfF",
        "outputId": "5eb25848-9f0f-466b-90db-34431549c25d"
      },
      "execution_count": 4,
      "outputs": [
        {
          "output_type": "stream",
          "name": "stdout",
          "text": [
            "Liczba brakujących wartości po czyszczeniu (dla kolumny age):\n",
            "survived         0\n",
            "pclass           0\n",
            "sex              0\n",
            "age              0\n",
            "sibsp            0\n",
            "parch            0\n",
            "fare             0\n",
            "embarked         2\n",
            "class            0\n",
            "who              0\n",
            "adult_male       0\n",
            "deck           530\n",
            "embark_town      2\n",
            "alive            0\n",
            "alone            0\n",
            "dtype: int64\n"
          ]
        }
      ]
    },
    {
      "cell_type": "code",
      "source": [
        "print(f\"Min bliet:{df['fare'].min()}\")\n",
        "print(f\"Max bliet:{df['fare'].max()}\")\n",
        "\n",
        "def categorized_fare(fare, fare_range):\n",
        "  if fare <= fare_range[0]:\n",
        "    return 0 # kat niska biletu\n",
        "  elif fare <= fare_range[1]:\n",
        "    return 1 # kat średnia biletu\n",
        "  else:\n",
        "    return 2 # kat wysoka biletu\n",
        "  pass\n",
        "min_fare = df['fare'].min()\n",
        "max_fare = df['fare'].max()\n",
        "fare_step = (max_fare - min_fare) / 3\n",
        "fare_range = [min_fare + fare_step, min_fare + 2 * fare_step]\n",
        "print(f\"Przedziały cenowe biletów:\")\n",
        "print(f\"Niska:{min_fare:.2f} - {fare_range[0]:.2f}\")\n",
        "print(f\"Średnia:{fare_range[0]:.2f} - {fare_range[1]:.2f}\")\n",
        "print(f\"Wysoka:{fare_range[1]:.2f} - {max_fare:.2f}\")"
      ],
      "metadata": {
        "colab": {
          "base_uri": "https://localhost:8080/"
        },
        "id": "4P7RtGT9NNY-",
        "outputId": "14d43f48-37c0-4736-b431-adc818e53400"
      },
      "execution_count": 5,
      "outputs": [
        {
          "output_type": "stream",
          "name": "stdout",
          "text": [
            "Min bliet:0.0\n",
            "Max bliet:512.3292\n",
            "Przedziały cenowe biletów:\n",
            "Niska:0.00 - 170.78\n",
            "Średnia:170.78 - 341.55\n",
            "Wysoka:341.55 - 512.33\n"
          ]
        }
      ]
    },
    {
      "cell_type": "code",
      "source": [
        "selected_features = [\"sex\", \"age\", \"pclass\", \"fare_category\"]\n",
        "df_model = df.copy()\n",
        "df_model[\"sex\"] = df_model[\"sex\"].map({\"male\": 0, \"female\": 1})\n",
        "df_model[\"fare_category\"] = df_model[\"fare\"].apply(lambda x: categorized_fare(x, fare_range))\n",
        "print(df_model.groupby([\"fare_category\"]).count())\n"
      ],
      "metadata": {
        "colab": {
          "base_uri": "https://localhost:8080/"
        },
        "id": "rS-GQd7zQ-5f",
        "outputId": "37cf9c02-ea3e-4925-c83b-9e96ae0246d9"
      },
      "execution_count": 6,
      "outputs": [
        {
          "output_type": "stream",
          "name": "stdout",
          "text": [
            "               survived  pclass  sex  age  sibsp  parch  fare  embarked  \\\n",
            "fare_category                                                             \n",
            "0                   696     696  696  696    696    696   696       694   \n",
            "1                    15      15   15   15     15     15    15        15   \n",
            "2                     3       3    3    3      3      3     3         3   \n",
            "\n",
            "               class  who  adult_male  deck  embark_town  alive  alone  \n",
            "fare_category                                                           \n",
            "0                696  696         696   168          694    696    696  \n",
            "1                 15   15          15    14           15     15     15  \n",
            "2                  3    3           3     2            3      3      3  \n"
          ]
        }
      ]
    },
    {
      "cell_type": "code",
      "source": [
        "x = df_model[selected_features]\n",
        "y = df_model[\"survived\"]\n",
        "x_train,x_test, y_train,y_test = train_test_split(x, y, test_size=0.2, random_state = 42)\n"
      ],
      "metadata": {
        "id": "6m_xUe5LT5vO"
      },
      "execution_count": 7,
      "outputs": []
    },
    {
      "cell_type": "code",
      "source": [
        "#standaryzajca danych\n",
        "scaler = StandardScaler()\n",
        "X_train_scaled = scaler.fit_transform(x_train)\n",
        "X_test_scaled = scaler.transform(x_test)"
      ],
      "metadata": {
        "id": "xRt8jC4bWmTO"
      },
      "execution_count": 8,
      "outputs": []
    },
    {
      "cell_type": "code",
      "source": [
        "y_pred = model.predict(X_test_scaled)\n",
        "print(y_pred)\n",
        "\n",
        "accuracy = accuracy_score(y_test, y_pred)\n"
      ],
      "metadata": {
        "colab": {
          "base_uri": "https://localhost:8080/"
        },
        "id": "6sO0tqW2NL6W",
        "outputId": "f14f0e56-2129-414b-8be2-6f3d857e2f20"
      },
      "execution_count": 30,
      "outputs": [
        {
          "output_type": "stream",
          "name": "stdout",
          "text": [
            "[0 0 1 1 0 0 1 1 1 1 1 1 1 0 1 0 0 1 0 1 1 1 1 0 0 0 0 0 1 0 1 1 0 0 0 0 0\n",
            " 0 0 0 0 0 1 0 0 1 1 1 0 1 0 1 1 0 0 1 1 0 0 0 1 0 1 0 0 0 0 1 0 0 0 1 0 0\n",
            " 0 0 0 0 1 1 1 1 0 0 0 1 1 0 0 0 0 1 1 0 1 1 1 1 0 0 1 1 0 1 1 0 0 0 0 1 0\n",
            " 0 0 0 0 1 0 1 0 0 1 0 0 0 1 0 0 1 0 1 0 0 0 1 0 0 0 0 0 0 0 1 1]\n"
          ]
        }
      ]
    },
    {
      "cell_type": "code",
      "source": [
        "from re import A\n",
        "while True:\n",
        "  print(f\"Prognoza przezycia dla nowego pasazera\")\n",
        "  print(\"(Wpisz 'koniec' aby zakonczyc)\")\n",
        "\n",
        "  sex_input = input(\"Podaj płeć (m/k)\").lower()\n",
        "  if sex_input == \"koniec\":\n",
        "    break\n",
        "  sex = 1 if sex_input == \"k\" else 0\n",
        "\n",
        "  age_input = input(\"Podaj wiek\")\n",
        "  if age_input == \"koniec\":\n",
        "    break\n",
        "  age = int(age_input)\n",
        "\n",
        "  pclass_input = input(\"Podaj klasę (1/2/3)\")\n",
        "  if pclass_input == \"koniec\":\n",
        "    break\n",
        "  pclass = int(pclass_input)\n",
        "\n",
        "  fare_input = input(\"Podaj cenę biletu\")\n",
        "  if fare_input == \"koniec\":\n",
        "    break\n",
        "  fare = float(fare_input)\n",
        "  fare_category = categorized_fare(fare, fare_range)\n",
        "\n",
        "  new_passenger = pd.DataFrame({\n",
        "      \"sex\":[sex],\n",
        "      \"age\":[age],\n",
        "      \"pclass\":[pclass],\n",
        "      \"fare_category\":[fare_category]\n",
        "  })\n",
        "\n",
        "  new_passenger_scaled = scaler.transform(new_passenger)\n",
        "\n",
        "  pred = model.predict(new_passenger_scaled)\n",
        "  proba = model.predict_proba(new_passenger_scaled)\n",
        "\n",
        "  print(f\"Przeżył: \" + \"Tak\" if pred[0] == 1 else \"Nie\")\n",
        "  print(f\"Prawdopodobieństwo: {proba[0][1]:.2f}\")"
      ],
      "metadata": {
        "colab": {
          "base_uri": "https://localhost:8080/"
        },
        "id": "iBxBma9UQabT",
        "outputId": "8a7da7e0-0dd6-4a7a-cf7a-b99ecfe1d3e2"
      },
      "execution_count": 32,
      "outputs": [
        {
          "name": "stdout",
          "output_type": "stream",
          "text": [
            "Prognoza przezycia dla nowego pasazera\n",
            "(Wpisz 'koniec' aby zakonczyc)\n",
            "Podaj płeć (m/k)m\n",
            "Podaj wiek18\n",
            "Podaj klasę (1/2/3)1\n",
            "Podaj cenę biletu30\n",
            "Przeżył: Tak\n",
            "Prawdopodobieństwo: 0.65\n",
            "Prognoza przezycia dla nowego pasazera\n",
            "(Wpisz 'koniec' aby zakonczyc)\n",
            "Podaj płeć (m/k)koniec\n"
          ]
        }
      ]
    }
  ]
}