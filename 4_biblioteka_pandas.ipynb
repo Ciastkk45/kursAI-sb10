{
  "nbformat": 4,
  "nbformat_minor": 0,
  "metadata": {
    "colab": {
      "provenance": [],
      "authorship_tag": "ABX9TyMF/VeaVCirOeoNHO5bz0qm",
      "include_colab_link": true
    },
    "kernelspec": {
      "name": "python3",
      "display_name": "Python 3"
    },
    "language_info": {
      "name": "python"
    }
  },
  "cells": [
    {
      "cell_type": "markdown",
      "metadata": {
        "id": "view-in-github",
        "colab_type": "text"
      },
      "source": [
        "<a href=\"https://colab.research.google.com/github/Ciastkk45/kursAI-sb10/blob/main/4_biblioteka_pandas.ipynb\" target=\"_parent\"><img src=\"https://colab.research.google.com/assets/colab-badge.svg\" alt=\"Open In Colab\"/></a>"
      ]
    },
    {
      "cell_type": "code",
      "execution_count": 29,
      "metadata": {
        "colab": {
          "base_uri": "https://localhost:8080/"
        },
        "id": "gHgzKlJZH0Cl",
        "outputId": "565906c8-c7df-4444-dfbd-94bdc072e7cc"
      },
      "outputs": [
        {
          "output_type": "stream",
          "name": "stdout",
          "text": [
            "Ania     25\n",
            "Jan      30\n",
            "Kasia    22\n",
            "dtype: int64\n",
            "Kuba          18.0\n",
            "Ania          16.0\n",
            "Marek         17.0\n",
            "Wojtek        20.0\n",
            "Nieznajomy     NaN\n",
            "dtype: float64\n",
            "Rozmiar serii:5\n",
            "Kształt serii:(5,)\n",
            "Typ danych w serii:float64\n",
            "Indexy w serii:Index(['Kuba', 'Ania', 'Marek', 'Wojtek', 'Nieznajomy'], dtype='object')\n",
            "Wartości w serii:[18. 16. 17. 20. nan]\n",
            "Wartości w serii: 17.0\n",
            "Wartości w serii: 17.0\n"
          ]
        }
      ],
      "source": [
        "import pandas as pd\n",
        "import numpy as np\n",
        "\n",
        "\n",
        "data = {\"Ania\" : 25, \"Jan\" : 30, \"Kasia\" : 22}\n",
        "s = pd.Series(data)\n",
        "print(s)\n",
        "\n",
        "s2 = pd.Series([18,16,17,20, np.nan], index = [\"Kuba\", \"Ania\", \"Marek\",\"Wojtek\", \"Nieznajomy\"])\n",
        "print(s2)\n",
        "print(f\"Rozmiar serii:{s2.size}\")\n",
        "print(f\"Kształt serii:{s2.shape}\")\n",
        "print(f\"Typ danych w serii:{s2.dtype}\")\n",
        "print(f\"Indexy w serii:{s2.index}\")\n",
        "print(f\"Wartości w serii:{s2.values}\")\n",
        "print(f\"Wartości w serii: {s2['Marek']}\")\n",
        "print(f\"Wartości w serii: {s2.iloc[2]}\")"
      ]
    },
    {
      "cell_type": "code",
      "source": [
        "dane = {\n",
        "    \"cena\" : [15,20,17],\n",
        "    \"ilosc\" : [50,40,45]\n",
        "}\n",
        "df = pd.DataFrame(dane, index = [\"dzień 1\", \"dzień 2\", \"dzień 3\"])\n",
        "print(df)\n",
        "print(df[\"cena\"])\n",
        "print(df.loc[\"dzień 2\"])\n",
        "print(df.info())"
      ],
      "metadata": {
        "colab": {
          "base_uri": "https://localhost:8080/"
        },
        "id": "u0nzbNQALyT0",
        "outputId": "4553e842-d67c-45cd-dad0-8c5cb0bfc242"
      },
      "execution_count": 14,
      "outputs": [
        {
          "output_type": "stream",
          "name": "stdout",
          "text": [
            "         cena  ilosc\n",
            "dzień 1    15     50\n",
            "dzień 2    20     40\n",
            "dzień 3    17     45\n",
            "dzień 1    15\n",
            "dzień 2    20\n",
            "dzień 3    17\n",
            "Name: cena, dtype: int64\n",
            "cena     20\n",
            "ilosc    40\n",
            "Name: dzień 2, dtype: int64\n",
            "<class 'pandas.core.frame.DataFrame'>\n",
            "Index: 3 entries, dzień 1 to dzień 3\n",
            "Data columns (total 2 columns):\n",
            " #   Column  Non-Null Count  Dtype\n",
            "---  ------  --------------  -----\n",
            " 0   cena    3 non-null      int64\n",
            " 1   ilosc   3 non-null      int64\n",
            "dtypes: int64(2)\n",
            "memory usage: 180.0+ bytes\n",
            "None\n"
          ]
        }
      ]
    },
    {
      "cell_type": "code",
      "source": [
        "df = pd.read_excel(\"Gigathon_Wyniki.xlsx\")\n",
        "print(df)"
      ],
      "metadata": {
        "colab": {
          "base_uri": "https://localhost:8080/"
        },
        "id": "mARxdghTODAd",
        "outputId": "d452c725-6b0d-472f-b615-dcdb93b61c44"
      },
      "execution_count": 15,
      "outputs": [
        {
          "output_type": "stream",
          "name": "stdout",
          "text": [
            "         Imię  Wiek  Punktacja\n",
            "0      Łukasz    18       51.0\n",
            "1   Magdalena    18       52.0\n",
            "2    Radosław    15       46.0\n",
            "3      Patryk    15       52.0\n",
            "4        Anna    14      110.0\n",
            "5     Dagmara    16        NaN\n",
            "6      Tomasz    16      112.0\n",
            "7    Weronika    17      104.0\n",
            "8     Nikodem    17       97.0\n",
            "9      Bartek    14        NaN\n",
            "10      Jakub    16       61.0\n",
            "11   Gabriela    16       92.0\n",
            "12     Hubert    15      120.0\n",
            "13    Zuzanna    13       70.0\n",
            "14     Oliwia    14       84.0\n",
            "15      Filip    16      100.0\n",
            "16    Ewelina    17       98.0\n",
            "17   Karolina    14       63.0\n",
            "18     Xawery    17       39.0\n",
            "19     Cezary    13        NaN\n",
            "20        Iga    15       77.0\n",
            "21    Urszula    14      102.0\n",
            "22        Jan    17      102.0\n",
            "23     Michał    15        NaN\n",
            "24  Katarzyna    18       68.0\n"
          ]
        }
      ]
    },
    {
      "cell_type": "code",
      "source": [
        "print(df.head(5))"
      ],
      "metadata": {
        "colab": {
          "base_uri": "https://localhost:8080/"
        },
        "id": "4muiM95ZPfVn",
        "outputId": "d9b52a2f-e9f2-41fa-db99-4612b57f06d4"
      },
      "execution_count": 16,
      "outputs": [
        {
          "output_type": "stream",
          "name": "stdout",
          "text": [
            "        Imię  Wiek  Punktacja\n",
            "0     Łukasz    18       51.0\n",
            "1  Magdalena    18       52.0\n",
            "2   Radosław    15       46.0\n",
            "3     Patryk    15       52.0\n",
            "4       Anna    14      110.0\n"
          ]
        }
      ]
    },
    {
      "cell_type": "code",
      "source": [
        "print(df.tail(5))"
      ],
      "metadata": {
        "colab": {
          "base_uri": "https://localhost:8080/"
        },
        "id": "lwnQi3rePipB",
        "outputId": "7d9ed667-57db-4caf-9924-e17703408136"
      },
      "execution_count": 17,
      "outputs": [
        {
          "output_type": "stream",
          "name": "stdout",
          "text": [
            "         Imię  Wiek  Punktacja\n",
            "20        Iga    15       77.0\n",
            "21    Urszula    14      102.0\n",
            "22        Jan    17      102.0\n",
            "23     Michał    15        NaN\n",
            "24  Katarzyna    18       68.0\n"
          ]
        }
      ]
    },
    {
      "cell_type": "code",
      "source": [
        "df[\"Wynik procentowy\"] = df[\"Punktacja\"]/120*100\n",
        "print(df)"
      ],
      "metadata": {
        "colab": {
          "base_uri": "https://localhost:8080/"
        },
        "id": "Bp1KvTjtRS8j",
        "outputId": "cf483058-944e-4d77-9576-67cd27890332"
      },
      "execution_count": 18,
      "outputs": [
        {
          "output_type": "stream",
          "name": "stdout",
          "text": [
            "         Imię  Wiek  Punktacja  Wynik procentowy\n",
            "0      Łukasz    18       51.0         42.500000\n",
            "1   Magdalena    18       52.0         43.333333\n",
            "2    Radosław    15       46.0         38.333333\n",
            "3      Patryk    15       52.0         43.333333\n",
            "4        Anna    14      110.0         91.666667\n",
            "5     Dagmara    16        NaN               NaN\n",
            "6      Tomasz    16      112.0         93.333333\n",
            "7    Weronika    17      104.0         86.666667\n",
            "8     Nikodem    17       97.0         80.833333\n",
            "9      Bartek    14        NaN               NaN\n",
            "10      Jakub    16       61.0         50.833333\n",
            "11   Gabriela    16       92.0         76.666667\n",
            "12     Hubert    15      120.0        100.000000\n",
            "13    Zuzanna    13       70.0         58.333333\n",
            "14     Oliwia    14       84.0         70.000000\n",
            "15      Filip    16      100.0         83.333333\n",
            "16    Ewelina    17       98.0         81.666667\n",
            "17   Karolina    14       63.0         52.500000\n",
            "18     Xawery    17       39.0         32.500000\n",
            "19     Cezary    13        NaN               NaN\n",
            "20        Iga    15       77.0         64.166667\n",
            "21    Urszula    14      102.0         85.000000\n",
            "22        Jan    17      102.0         85.000000\n",
            "23     Michał    15        NaN               NaN\n",
            "24  Katarzyna    18       68.0         56.666667\n"
          ]
        }
      ]
    },
    {
      "cell_type": "code",
      "source": [
        "df.dropna(inplace = True)\n",
        "print(df)"
      ],
      "metadata": {
        "colab": {
          "base_uri": "https://localhost:8080/"
        },
        "id": "2Ug3Rq7ARxaW",
        "outputId": "ab1536c2-dd63-4e34-c718-9781e2a52137"
      },
      "execution_count": 19,
      "outputs": [
        {
          "output_type": "stream",
          "name": "stdout",
          "text": [
            "         Imię  Wiek  Punktacja  Wynik procentowy\n",
            "0      Łukasz    18       51.0         42.500000\n",
            "1   Magdalena    18       52.0         43.333333\n",
            "2    Radosław    15       46.0         38.333333\n",
            "3      Patryk    15       52.0         43.333333\n",
            "4        Anna    14      110.0         91.666667\n",
            "6      Tomasz    16      112.0         93.333333\n",
            "7    Weronika    17      104.0         86.666667\n",
            "8     Nikodem    17       97.0         80.833333\n",
            "10      Jakub    16       61.0         50.833333\n",
            "11   Gabriela    16       92.0         76.666667\n",
            "12     Hubert    15      120.0        100.000000\n",
            "13    Zuzanna    13       70.0         58.333333\n",
            "14     Oliwia    14       84.0         70.000000\n",
            "15      Filip    16      100.0         83.333333\n",
            "16    Ewelina    17       98.0         81.666667\n",
            "17   Karolina    14       63.0         52.500000\n",
            "18     Xawery    17       39.0         32.500000\n",
            "20        Iga    15       77.0         64.166667\n",
            "21    Urszula    14      102.0         85.000000\n",
            "22        Jan    17      102.0         85.000000\n",
            "24  Katarzyna    18       68.0         56.666667\n"
          ]
        }
      ]
    },
    {
      "cell_type": "code",
      "source": [
        "df.sort_values(by = \"Punktacja\", ascending = False, inplace = True)\n",
        "print(df)"
      ],
      "metadata": {
        "colab": {
          "base_uri": "https://localhost:8080/"
        },
        "id": "8pKcqi8_SVoL",
        "outputId": "fce02c0e-ebc2-4eb7-ffcf-40bc4086bf4e"
      },
      "execution_count": 20,
      "outputs": [
        {
          "output_type": "stream",
          "name": "stdout",
          "text": [
            "         Imię  Wiek  Punktacja  Wynik procentowy\n",
            "12     Hubert    15      120.0        100.000000\n",
            "6      Tomasz    16      112.0         93.333333\n",
            "4        Anna    14      110.0         91.666667\n",
            "7    Weronika    17      104.0         86.666667\n",
            "22        Jan    17      102.0         85.000000\n",
            "21    Urszula    14      102.0         85.000000\n",
            "15      Filip    16      100.0         83.333333\n",
            "16    Ewelina    17       98.0         81.666667\n",
            "8     Nikodem    17       97.0         80.833333\n",
            "11   Gabriela    16       92.0         76.666667\n",
            "14     Oliwia    14       84.0         70.000000\n",
            "20        Iga    15       77.0         64.166667\n",
            "13    Zuzanna    13       70.0         58.333333\n",
            "24  Katarzyna    18       68.0         56.666667\n",
            "17   Karolina    14       63.0         52.500000\n",
            "10      Jakub    16       61.0         50.833333\n",
            "3      Patryk    15       52.0         43.333333\n",
            "1   Magdalena    18       52.0         43.333333\n",
            "0      Łukasz    18       51.0         42.500000\n",
            "2    Radosław    15       46.0         38.333333\n",
            "18     Xawery    17       39.0         32.500000\n"
          ]
        }
      ]
    },
    {
      "cell_type": "code",
      "source": [
        "df[\"Zakwalifikowany\"] = df[\"Wynik procentowy\"] >= 70\n",
        "print(df)"
      ],
      "metadata": {
        "colab": {
          "base_uri": "https://localhost:8080/"
        },
        "id": "7l2ExTt0TVP9",
        "outputId": "c3bb755b-92b9-445f-8bb6-1c781948add6"
      },
      "execution_count": 22,
      "outputs": [
        {
          "output_type": "stream",
          "name": "stdout",
          "text": [
            "         Imię  Wiek  Punktacja  Wynik procentowy  Zakwalifikowany\n",
            "12     Hubert    15      120.0        100.000000             True\n",
            "6      Tomasz    16      112.0         93.333333             True\n",
            "4        Anna    14      110.0         91.666667             True\n",
            "7    Weronika    17      104.0         86.666667             True\n",
            "22        Jan    17      102.0         85.000000             True\n",
            "21    Urszula    14      102.0         85.000000             True\n",
            "15      Filip    16      100.0         83.333333             True\n",
            "16    Ewelina    17       98.0         81.666667             True\n",
            "8     Nikodem    17       97.0         80.833333             True\n",
            "11   Gabriela    16       92.0         76.666667             True\n",
            "14     Oliwia    14       84.0         70.000000             True\n",
            "20        Iga    15       77.0         64.166667            False\n",
            "13    Zuzanna    13       70.0         58.333333            False\n",
            "24  Katarzyna    18       68.0         56.666667            False\n",
            "17   Karolina    14       63.0         52.500000            False\n",
            "10      Jakub    16       61.0         50.833333            False\n",
            "3      Patryk    15       52.0         43.333333            False\n",
            "1   Magdalena    18       52.0         43.333333            False\n",
            "0      Łukasz    18       51.0         42.500000            False\n",
            "2    Radosław    15       46.0         38.333333            False\n",
            "18     Xawery    17       39.0         32.500000            False\n"
          ]
        }
      ]
    },
    {
      "cell_type": "code",
      "source": [
        "zestawienie = df.groupby([\"Zakwalifikowany\", \"Wiek\"])[[\"Punktacja\", \"Wynik procentowy\"]].agg([\"count\",\"min\",\"max\",\"mean\",\"median\"])\n",
        "print(zestawienie)"
      ],
      "metadata": {
        "colab": {
          "base_uri": "https://localhost:8080/"
        },
        "id": "onHewgr_UeSc",
        "outputId": "f8ac9bc8-50be-48ea-8cbb-dc28175027e9"
      },
      "execution_count": 23,
      "outputs": [
        {
          "output_type": "stream",
          "name": "stdout",
          "text": [
            "                     Punktacja                                   \\\n",
            "                         count    min    max        mean median   \n",
            "Zakwalifikowany Wiek                                              \n",
            "False           13           1   70.0   70.0   70.000000   70.0   \n",
            "                14           1   63.0   63.0   63.000000   63.0   \n",
            "                15           3   46.0   77.0   58.333333   52.0   \n",
            "                16           1   61.0   61.0   61.000000   61.0   \n",
            "                17           1   39.0   39.0   39.000000   39.0   \n",
            "                18           3   51.0   68.0   57.000000   52.0   \n",
            "True            14           3   84.0  110.0   98.666667  102.0   \n",
            "                15           1  120.0  120.0  120.000000  120.0   \n",
            "                16           3   92.0  112.0  101.333333  100.0   \n",
            "                17           4   97.0  104.0  100.250000  100.0   \n",
            "\n",
            "                     Wynik procentowy                                      \\\n",
            "                                count         min         max        mean   \n",
            "Zakwalifikowany Wiek                                                        \n",
            "False           13                  1   58.333333   58.333333   58.333333   \n",
            "                14                  1   52.500000   52.500000   52.500000   \n",
            "                15                  3   38.333333   64.166667   48.611111   \n",
            "                16                  1   50.833333   50.833333   50.833333   \n",
            "                17                  1   32.500000   32.500000   32.500000   \n",
            "                18                  3   42.500000   56.666667   47.500000   \n",
            "True            14                  3   70.000000   91.666667   82.222222   \n",
            "                15                  1  100.000000  100.000000  100.000000   \n",
            "                16                  3   76.666667   93.333333   84.444444   \n",
            "                17                  4   80.833333   86.666667   83.541667   \n",
            "\n",
            "                                  \n",
            "                          median  \n",
            "Zakwalifikowany Wiek              \n",
            "False           13     58.333333  \n",
            "                14     52.500000  \n",
            "                15     43.333333  \n",
            "                16     50.833333  \n",
            "                17     32.500000  \n",
            "                18     43.333333  \n",
            "True            14     85.000000  \n",
            "                15    100.000000  \n",
            "                16     83.333333  \n",
            "                17     83.333333  \n"
          ]
        }
      ]
    },
    {
      "cell_type": "code",
      "source": [
        "df_zakwalifikowani = df[df[\"Zakwalifikowany\"]]\n",
        "df_zakwalifikowani.drop(\"Zakwalifikowany\", axis = 1, inplace = True)\n",
        "df_zakwalifikowani.to_excel(\"zakwalifikowani.xlsx\")\n",
        "print(df_zakwalifikowani)"
      ],
      "metadata": {
        "colab": {
          "base_uri": "https://localhost:8080/"
        },
        "id": "fgMKk9cVWSYs",
        "outputId": "14707531-0824-4544-a834-4d8068275798"
      },
      "execution_count": 27,
      "outputs": [
        {
          "output_type": "stream",
          "name": "stdout",
          "text": [
            "        Imię  Wiek  Punktacja  Wynik procentowy\n",
            "12    Hubert    15      120.0        100.000000\n",
            "6     Tomasz    16      112.0         93.333333\n",
            "4       Anna    14      110.0         91.666667\n",
            "7   Weronika    17      104.0         86.666667\n",
            "22       Jan    17      102.0         85.000000\n",
            "21   Urszula    14      102.0         85.000000\n",
            "15     Filip    16      100.0         83.333333\n",
            "16   Ewelina    17       98.0         81.666667\n",
            "8    Nikodem    17       97.0         80.833333\n",
            "11  Gabriela    16       92.0         76.666667\n",
            "14    Oliwia    14       84.0         70.000000\n"
          ]
        },
        {
          "output_type": "stream",
          "name": "stderr",
          "text": [
            "<ipython-input-27-2620cfcb0d99>:2: SettingWithCopyWarning: \n",
            "A value is trying to be set on a copy of a slice from a DataFrame\n",
            "\n",
            "See the caveats in the documentation: https://pandas.pydata.org/pandas-docs/stable/user_guide/indexing.html#returning-a-view-versus-a-copy\n",
            "  df_zakwalifikowani.drop(\"Zakwalifikowany\", axis = 1, inplace = True)\n"
          ]
        }
      ]
    },
    {
      "cell_type": "code",
      "source": [
        "df_niezakwalifikowani = df[~df[\"Zakwalifikowany\"]]\n",
        "df_niezakwalifikowani.drop(\"Zakwalifikowany\", axis = 1, inplace = True)\n",
        "df_niezakwalifikowani.to_excel(\"niezakwalifikowani.xlsx\")\n",
        "print(df_niezakwalifikowani)"
      ],
      "metadata": {
        "colab": {
          "base_uri": "https://localhost:8080/"
        },
        "id": "VvxYCJZxXdVu",
        "outputId": "c1b0fb8d-6da9-46aa-d871-36e1528a5990"
      },
      "execution_count": 28,
      "outputs": [
        {
          "output_type": "stream",
          "name": "stdout",
          "text": [
            "         Imię  Wiek  Punktacja  Wynik procentowy\n",
            "20        Iga    15       77.0         64.166667\n",
            "13    Zuzanna    13       70.0         58.333333\n",
            "24  Katarzyna    18       68.0         56.666667\n",
            "17   Karolina    14       63.0         52.500000\n",
            "10      Jakub    16       61.0         50.833333\n",
            "3      Patryk    15       52.0         43.333333\n",
            "1   Magdalena    18       52.0         43.333333\n",
            "0      Łukasz    18       51.0         42.500000\n",
            "2    Radosław    15       46.0         38.333333\n",
            "18     Xawery    17       39.0         32.500000\n"
          ]
        },
        {
          "output_type": "stream",
          "name": "stderr",
          "text": [
            "<ipython-input-28-54b6b1b22ac1>:2: SettingWithCopyWarning: \n",
            "A value is trying to be set on a copy of a slice from a DataFrame\n",
            "\n",
            "See the caveats in the documentation: https://pandas.pydata.org/pandas-docs/stable/user_guide/indexing.html#returning-a-view-versus-a-copy\n",
            "  df_niezakwalifikowani.drop(\"Zakwalifikowany\", axis = 1, inplace = True)\n"
          ]
        }
      ]
    },
    {
      "cell_type": "code",
      "source": [
        "import matplotlib.pyplot as plt\n"
      ],
      "metadata": {
        "id": "vMlaQCt7Y36S"
      },
      "execution_count": 30,
      "outputs": []
    },
    {
      "cell_type": "code",
      "source": [
        "df = pd.read_csv(\"Pokemon.csv\")\n",
        "print(df.head(10))"
      ],
      "metadata": {
        "colab": {
          "base_uri": "https://localhost:8080/"
        },
        "id": "tmsoQSdxZY65",
        "outputId": "af1e1f5b-67ec-417f-c265-1e0dc3da9724"
      },
      "execution_count": 31,
      "outputs": [
        {
          "output_type": "stream",
          "name": "stdout",
          "text": [
            "   #                       Name Type 1  Type 2  Total  HP  Attack  Defense  \\\n",
            "0  1                  Bulbasaur  Grass  Poison    318  45      49       49   \n",
            "1  2                    Ivysaur  Grass  Poison    405  60      62       63   \n",
            "2  3                   Venusaur  Grass  Poison    525  80      82       83   \n",
            "3  3      VenusaurMega Venusaur  Grass  Poison    625  80     100      123   \n",
            "4  4                 Charmander   Fire     NaN    309  39      52       43   \n",
            "5  5                 Charmeleon   Fire     NaN    405  58      64       58   \n",
            "6  6                  Charizard   Fire  Flying    534  78      84       78   \n",
            "7  6  CharizardMega Charizard X   Fire  Dragon    634  78     130      111   \n",
            "8  6  CharizardMega Charizard Y   Fire  Flying    634  78     104       78   \n",
            "9  7                   Squirtle  Water     NaN    314  44      48       65   \n",
            "\n",
            "   Sp. Atk  Sp. Def  Speed  Generation  Legendary  \n",
            "0       65       65     45           1      False  \n",
            "1       80       80     60           1      False  \n",
            "2      100      100     80           1      False  \n",
            "3      122      120     80           1      False  \n",
            "4       60       50     65           1      False  \n",
            "5       80       65     80           1      False  \n",
            "6      109       85    100           1      False  \n",
            "7      130       85    100           1      False  \n",
            "8      159      115    100           1      False  \n",
            "9       50       64     43           1      False  \n"
          ]
        }
      ]
    },
    {
      "cell_type": "code",
      "source": [
        "unique_types = df[\"Type 1\"].nunique()\n",
        "print(\"Liczba unikalnych typów (Type 1):\", unique_types)"
      ],
      "metadata": {
        "colab": {
          "base_uri": "https://localhost:8080/"
        },
        "id": "gJ5Xc9kKZn6b",
        "outputId": "a168b990-e334-414d-c5a0-1bfbfbc8a13c"
      },
      "execution_count": 37,
      "outputs": [
        {
          "output_type": "stream",
          "name": "stdout",
          "text": [
            "Liczba unikalnych typów (Type 1): 18\n"
          ]
        }
      ]
    },
    {
      "cell_type": "code",
      "source": [
        "legendarne_liczba = df[df[\"Legendary\"] == True].shape[0]\n",
        "print(\"Liczba legendarnych pokemonów:\", legendarne_liczba)"
      ],
      "metadata": {
        "colab": {
          "base_uri": "https://localhost:8080/"
        },
        "id": "RyZKEKqMaHVB",
        "outputId": "557346f4-b89b-44c8-b049-8d86a746ccfe"
      },
      "execution_count": 38,
      "outputs": [
        {
          "output_type": "stream",
          "name": "stdout",
          "text": [
            "Liczba legendarnych pokemonów: 65\n"
          ]
        }
      ]
    },
    {
      "cell_type": "code",
      "source": [
        "bez_type2 = df[df[\"Type 2\"].isnull()].shape[0]\n",
        "print(\"Liczba pokemonów bez typu 2:\", bez_type2)\n"
      ],
      "metadata": {
        "colab": {
          "base_uri": "https://localhost:8080/"
        },
        "id": "CMUz8Cg7a1Ti",
        "outputId": "7084d118-800d-4774-b1e4-afb9fc13ca25"
      },
      "execution_count": 39,
      "outputs": [
        {
          "output_type": "stream",
          "name": "stdout",
          "text": [
            "Liczba pokemonów bez typu 2: 386\n"
          ]
        }
      ]
    }
  ]
}