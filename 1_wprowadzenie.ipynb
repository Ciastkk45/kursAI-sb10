{
  "nbformat": 4,
  "nbformat_minor": 0,
  "metadata": {
    "colab": {
      "provenance": [],
      "authorship_tag": "ABX9TyMnBiKli0kK5TprVXcZt7nx",
      "include_colab_link": true
    },
    "kernelspec": {
      "name": "python3",
      "display_name": "Python 3"
    },
    "language_info": {
      "name": "python"
    }
  },
  "cells": [
    {
      "cell_type": "markdown",
      "metadata": {
        "id": "view-in-github",
        "colab_type": "text"
      },
      "source": [
        "<a href=\"https://colab.research.google.com/github/Ciastkk45/kursAI-sb10/blob/main/1_wprowadzenie.ipynb\" target=\"_parent\"><img src=\"https://colab.research.google.com/assets/colab-badge.svg\" alt=\"Open In Colab\"/></a>"
      ]
    },
    {
      "cell_type": "markdown",
      "source": [
        "# **Podstawowe elementy języka python.**\n",
        "*W tym rozdziale przedstawimy podstawowe elementy składni języka Python.*\n",
        "https://www.python.org/\n",
        "\n",
        "## Omawiane elementy:\n",
        "\n",
        "\n",
        "1.   Zmienne\n",
        "2.   Listy\n",
        "3.   Pętle\n",
        "4.   Słowniki i krotki\n",
        "5.   Instrukcje warunkowe\n",
        "6.   Funkcje\n",
        "7.   Obsługa plików\n",
        "8.   Obsługa wyjątków"
      ],
      "metadata": {
        "id": "ozDSSEFV8tmG"
      }
    },
    {
      "cell_type": "markdown",
      "source": [
        "##Konfiguracja repozytorium"
      ],
      "metadata": {
        "id": "rFc5DdqVBLsH"
      }
    },
    {
      "cell_type": "code",
      "execution_count": null,
      "metadata": {
        "id": "hY_k6Qqh62uR",
        "colab": {
          "base_uri": "https://localhost:8080/"
        },
        "outputId": "fcade709-2953-4eb9-e4b1-379f17e3fb34"
      },
      "outputs": [
        {
          "output_type": "stream",
          "name": "stdout",
          "text": [
            "Reinitialized existing Git repository in /content/.git/\n"
          ]
        }
      ],
      "source": [
        "!git init"
      ]
    },
    {
      "cell_type": "code",
      "source": [
        "!git config --global user.name \"Mikołaj\"\n",
        "!git config --global user.email \"ciastkk45@gmail.com\""
      ],
      "metadata": {
        "id": "QdJAPBHZB6G1"
      },
      "execution_count": null,
      "outputs": []
    },
    {
      "cell_type": "code",
      "source": [
        "!git add ."
      ],
      "metadata": {
        "id": "091BU_j3Cgr8"
      },
      "execution_count": null,
      "outputs": []
    },
    {
      "cell_type": "code",
      "source": [
        "!git status"
      ],
      "metadata": {
        "colab": {
          "base_uri": "https://localhost:8080/"
        },
        "id": "hM9wU8VJDDjp",
        "outputId": "2a2a7ef4-7daf-434d-f859-c893d05ed5d3"
      },
      "execution_count": null,
      "outputs": [
        {
          "output_type": "stream",
          "name": "stdout",
          "text": [
            "On branch master\n",
            "\n",
            "No commits yet\n",
            "\n",
            "Changes to be committed:\n",
            "  (use \"git rm --cached <file>...\" to unstage)\n",
            "\t\u001b[32mnew file:   .config/.last_opt_in_prompt.yaml\u001b[m\n",
            "\t\u001b[32mnew file:   .config/.last_survey_prompt.yaml\u001b[m\n",
            "\t\u001b[32mnew file:   .config/.last_update_check.json\u001b[m\n",
            "\t\u001b[32mnew file:   .config/active_config\u001b[m\n",
            "\t\u001b[32mnew file:   .config/config_sentinel\u001b[m\n",
            "\t\u001b[32mnew file:   .config/configurations/config_default\u001b[m\n",
            "\t\u001b[32mnew file:   .config/default_configs.db\u001b[m\n",
            "\t\u001b[32mnew file:   .config/gce\u001b[m\n",
            "\t\u001b[32mnew file:   .config/hidden_gcloud_config_universe_descriptor_data_cache_configs.db\u001b[m\n",
            "\t\u001b[32mnew file:   .config/logs/2025.02.20/14.23.09.448625.log\u001b[m\n",
            "\t\u001b[32mnew file:   .config/logs/2025.02.20/14.23.42.557542.log\u001b[m\n",
            "\t\u001b[32mnew file:   .config/logs/2025.02.20/14.23.54.466137.log\u001b[m\n",
            "\t\u001b[32mnew file:   .config/logs/2025.02.20/14.23.58.333263.log\u001b[m\n",
            "\t\u001b[32mnew file:   .config/logs/2025.02.20/14.24.10.539232.log\u001b[m\n",
            "\t\u001b[32mnew file:   .config/logs/2025.02.20/14.24.11.360033.log\u001b[m\n",
            "\t\u001b[32mnew file:   sample_data/README.md\u001b[m\n",
            "\t\u001b[32mnew file:   sample_data/anscombe.json\u001b[m\n",
            "\t\u001b[32mnew file:   sample_data/california_housing_test.csv\u001b[m\n",
            "\t\u001b[32mnew file:   sample_data/california_housing_train.csv\u001b[m\n",
            "\t\u001b[32mnew file:   sample_data/mnist_test.csv\u001b[m\n",
            "\t\u001b[32mnew file:   sample_data/mnist_train_small.csv\u001b[m\n",
            "\n"
          ]
        }
      ]
    },
    {
      "cell_type": "code",
      "source": [
        "!git commit -m \"Inicjalizacja projektu\""
      ],
      "metadata": {
        "colab": {
          "base_uri": "https://localhost:8080/"
        },
        "id": "yFiGRCzICm-a",
        "outputId": "72163cac-045b-4956-eeba-abcf3c34b06b"
      },
      "execution_count": null,
      "outputs": [
        {
          "output_type": "stream",
          "name": "stdout",
          "text": [
            "[master (root-commit) f5242c8] Inicjalizacja projektu\n",
            " 21 files changed, 51023 insertions(+)\n",
            " create mode 100644 .config/.last_opt_in_prompt.yaml\n",
            " create mode 100644 .config/.last_survey_prompt.yaml\n",
            " create mode 100644 .config/.last_update_check.json\n",
            " create mode 100644 .config/active_config\n",
            " create mode 100644 .config/config_sentinel\n",
            " create mode 100644 .config/configurations/config_default\n",
            " create mode 100644 .config/default_configs.db\n",
            " create mode 100644 .config/gce\n",
            " create mode 100644 .config/hidden_gcloud_config_universe_descriptor_data_cache_configs.db\n",
            " create mode 100644 .config/logs/2025.02.20/14.23.09.448625.log\n",
            " create mode 100644 .config/logs/2025.02.20/14.23.42.557542.log\n",
            " create mode 100644 .config/logs/2025.02.20/14.23.54.466137.log\n",
            " create mode 100644 .config/logs/2025.02.20/14.23.58.333263.log\n",
            " create mode 100644 .config/logs/2025.02.20/14.24.10.539232.log\n",
            " create mode 100644 .config/logs/2025.02.20/14.24.11.360033.log\n",
            " create mode 100755 sample_data/README.md\n",
            " create mode 100755 sample_data/anscombe.json\n",
            " create mode 100644 sample_data/california_housing_test.csv\n",
            " create mode 100644 sample_data/california_housing_train.csv\n",
            " create mode 100644 sample_data/mnist_test.csv\n",
            " create mode 100644 sample_data/mnist_train_small.csv\n"
          ]
        }
      ]
    },
    {
      "cell_type": "code",
      "source": [
        "!git log"
      ],
      "metadata": {
        "colab": {
          "base_uri": "https://localhost:8080/"
        },
        "id": "UXa1Wmr-Cshz",
        "outputId": "d732b9f8-02de-424d-aa37-20e081c66b9a"
      },
      "execution_count": null,
      "outputs": [
        {
          "output_type": "stream",
          "name": "stdout",
          "text": [
            "\u001b[33mcommit f5242c8dd7143216ef303c4175c66f08d4973c42\u001b[m\u001b[33m (\u001b[m\u001b[1;36mHEAD -> \u001b[m\u001b[1;32mmaster\u001b[m\u001b[33m)\u001b[m\n",
            "Author: Mikołaj <ciastkk45@gmail.com>\n",
            "Date:   Sat Feb 22 09:45:43 2025 +0000\n",
            "\n",
            "    Inicjalizacja projektu\n"
          ]
        }
      ]
    },
    {
      "cell_type": "code",
      "source": [
        "!git branch -M main"
      ],
      "metadata": {
        "id": "u-tzkfmfEAZl"
      },
      "execution_count": null,
      "outputs": []
    },
    {
      "cell_type": "code",
      "source": [
        "!git log"
      ],
      "metadata": {
        "colab": {
          "base_uri": "https://localhost:8080/"
        },
        "id": "SnUnbvGSEEcI",
        "outputId": "22a7f567-2341-48e2-d1dd-291472c5dd2c"
      },
      "execution_count": null,
      "outputs": [
        {
          "output_type": "stream",
          "name": "stdout",
          "text": [
            "\u001b[33mcommit f5242c8dd7143216ef303c4175c66f08d4973c42\u001b[m\u001b[33m (\u001b[m\u001b[1;36mHEAD -> \u001b[m\u001b[1;32mmain\u001b[m\u001b[33m)\u001b[m\n",
            "Author: Mikołaj <ciastkk45@gmail.com>\n",
            "Date:   Sat Feb 22 09:45:43 2025 +0000\n",
            "\n",
            "    Inicjalizacja projektu\n"
          ]
        }
      ]
    },
    {
      "cell_type": "code",
      "source": [
        "!git remote add origin https://<token>@github.com/Ciastkk45/kursAI-sb10.git"
      ],
      "metadata": {
        "id": "XU4N4COzE9On"
      },
      "execution_count": null,
      "outputs": []
    },
    {
      "cell_type": "code",
      "source": [
        "!git remote"
      ],
      "metadata": {
        "colab": {
          "base_uri": "https://localhost:8080/"
        },
        "id": "uEEP_f2iFKOy",
        "outputId": "2820508a-491b-47f1-e144-007e599ea98a"
      },
      "execution_count": null,
      "outputs": [
        {
          "output_type": "stream",
          "name": "stdout",
          "text": [
            "origin\n"
          ]
        }
      ]
    },
    {
      "cell_type": "code",
      "source": [
        "!git push -u origin main"
      ],
      "metadata": {
        "colab": {
          "base_uri": "https://localhost:8080/"
        },
        "id": "WI9ByVouFpJm",
        "outputId": "85ed4f23-12b1-4f86-f8f4-caaac3179183"
      },
      "execution_count": null,
      "outputs": [
        {
          "output_type": "stream",
          "name": "stdout",
          "text": [
            "Enumerating objects: 28, done.\n",
            "Counting objects:   3% (1/28)\rCounting objects:   7% (2/28)\rCounting objects:  10% (3/28)\rCounting objects:  14% (4/28)\rCounting objects:  17% (5/28)\rCounting objects:  21% (6/28)\rCounting objects:  25% (7/28)\rCounting objects:  28% (8/28)\rCounting objects:  32% (9/28)\rCounting objects:  35% (10/28)\rCounting objects:  39% (11/28)\rCounting objects:  42% (12/28)\rCounting objects:  46% (13/28)\rCounting objects:  50% (14/28)\rCounting objects:  53% (15/28)\rCounting objects:  57% (16/28)\rCounting objects:  60% (17/28)\rCounting objects:  64% (18/28)\rCounting objects:  67% (19/28)\rCounting objects:  71% (20/28)\rCounting objects:  75% (21/28)\rCounting objects:  78% (22/28)\rCounting objects:  82% (23/28)\rCounting objects:  85% (24/28)\rCounting objects:  89% (25/28)\rCounting objects:  92% (26/28)\rCounting objects:  96% (27/28)\rCounting objects: 100% (28/28)\rCounting objects: 100% (28/28), done.\n",
            "Delta compression using up to 2 threads\n",
            "Compressing objects: 100% (21/21), done.\n",
            "Writing objects: 100% (28/28), 8.42 MiB | 2.06 MiB/s, done.\n",
            "Total 28 (delta 5), reused 0 (delta 0), pack-reused 0\n",
            "remote: Resolving deltas: 100% (5/5), done.\u001b[K\n",
            "To https://github.com/Ciastkk45/kursAI-sb10.git\n",
            " * [new branch]      main -> main\n",
            "Branch 'main' set up to track remote branch 'main' from 'origin'.\n"
          ]
        }
      ]
    },
    {
      "cell_type": "code",
      "source": [
        "!git status"
      ],
      "metadata": {
        "colab": {
          "base_uri": "https://localhost:8080/"
        },
        "id": "-5prBVpFGf0x",
        "outputId": "5970a336-074c-4586-93ed-f3144c7509ca"
      },
      "execution_count": null,
      "outputs": [
        {
          "output_type": "stream",
          "name": "stdout",
          "text": [
            "On branch main\n",
            "Your branch is up to date with 'origin/main'.\n",
            "\n",
            "nothing to commit, working tree clean\n"
          ]
        }
      ]
    },
    {
      "cell_type": "code",
      "source": [
        "!git pull"
      ],
      "metadata": {
        "colab": {
          "base_uri": "https://localhost:8080/"
        },
        "id": "nc3XPanYGiqU",
        "outputId": "a27a7ce8-9f2b-4fcb-a0c9-49d4f94b0c23"
      },
      "execution_count": null,
      "outputs": [
        {
          "output_type": "stream",
          "name": "stdout",
          "text": [
            "remote: Enumerating objects: 4, done.\u001b[K\n",
            "remote: Counting objects:  25% (1/4)\u001b[K\rremote: Counting objects:  50% (2/4)\u001b[K\rremote: Counting objects:  75% (3/4)\u001b[K\rremote: Counting objects: 100% (4/4)\u001b[K\rremote: Counting objects: 100% (4/4), done.\u001b[K\n",
            "remote: Compressing objects:  50% (1/2)\u001b[K\rremote: Compressing objects: 100% (2/2)\u001b[K\rremote: Compressing objects: 100% (2/2), done.\u001b[K\n",
            "remote: Total 3 (delta 0), reused 0 (delta 0), pack-reused 0 (from 0)\u001b[K\n",
            "Unpacking objects:  33% (1/3)\rUnpacking objects:  66% (2/3)\rUnpacking objects: 100% (3/3)\rUnpacking objects: 100% (3/3), 972 bytes | 972.00 KiB/s, done.\n",
            "From https://github.com/Ciastkk45/kursAI-sb10\n",
            "   f5242c8..6682224  main       -> origin/main\n",
            "Updating f5242c8..6682224\n",
            "Fast-forward\n",
            " README.md | 1 \u001b[32m+\u001b[m\n",
            " 1 file changed, 1 insertion(+)\n",
            " create mode 100644 README.md\n"
          ]
        }
      ]
    },
    {
      "cell_type": "code",
      "source": [
        "!git log"
      ],
      "metadata": {
        "colab": {
          "base_uri": "https://localhost:8080/"
        },
        "id": "h4GrVwj5GqMV",
        "outputId": "b262f468-2b4a-4ee4-ef2e-9ad1d0b276a1"
      },
      "execution_count": null,
      "outputs": [
        {
          "output_type": "stream",
          "name": "stdout",
          "text": [
            "\u001b[33mcommit 66822243a596bf63bde7e294ce43ba441e145054\u001b[m\u001b[33m (\u001b[m\u001b[1;36mHEAD -> \u001b[m\u001b[1;32mmain\u001b[m\u001b[33m, \u001b[m\u001b[1;31morigin/main\u001b[m\u001b[33m)\u001b[m\n",
            "Author: Ciastkk45 <157208298+Ciastkk45@users.noreply.github.com>\n",
            "Date:   Sat Feb 22 10:59:58 2025 +0100\n",
            "\n",
            "    Create README.md\n",
            "\n",
            "\u001b[33mcommit f5242c8dd7143216ef303c4175c66f08d4973c42\u001b[m\n",
            "Author: Mikołaj <ciastkk45@gmail.com>\n",
            "Date:   Sat Feb 22 09:45:43 2025 +0000\n",
            "\n",
            "    Inicjalizacja projektu\n"
          ]
        }
      ]
    },
    {
      "cell_type": "markdown",
      "source": [
        "##Zmienne\n"
      ],
      "metadata": {
        "id": "HBNYmi2-IiWv"
      }
    },
    {
      "cell_type": "code",
      "source": [
        "liczba = 0\n",
        "zmiennoprzecinkowa = 8.9\n",
        "napis = \"Jakis napis\"\n",
        "logiczna = False\n",
        "print(f\"liczba: {liczba}, zmiennoprzecinkowa: {zmiennoprzecinkowa}, napis: {napis}, logiczna: {logiczna}\")\n",
        "print(f\"Zmienna liczba jest typu: {type(liczba)}\")"
      ],
      "metadata": {
        "colab": {
          "base_uri": "https://localhost:8080/"
        },
        "id": "oJgiDArKIq2D",
        "outputId": "3eb50555-2f5b-4f44-8989-fa5b65a68fc7"
      },
      "execution_count": null,
      "outputs": [
        {
          "output_type": "stream",
          "name": "stdout",
          "text": [
            "liczba: 0, zmiennoprzecinkowa: 8.9, napis: Jakis napis, logiczna: False\n",
            "Zmienna liczba jest typu: <class 'int'>\n"
          ]
        }
      ]
    },
    {
      "cell_type": "markdown",
      "source": [
        "##Listy"
      ],
      "metadata": {
        "id": "1HrFreXsIrmP"
      }
    },
    {
      "cell_type": "code",
      "source": [
        "gry = [\"fortnite\", \"minecraft\", \"roblox\"]\n",
        "lista_mieszana = [1,\"dbd\", 2.3, False]\n",
        "\n",
        "print(gry)\n",
        "print(lista_mieszana)\n",
        "print(f\"Pierwsza pozycja z listy gry to: {gry[0]}\")\n",
        "\n",
        "gry.append(\"cs\")\n",
        "print(gry)"
      ],
      "metadata": {
        "colab": {
          "base_uri": "https://localhost:8080/"
        },
        "id": "xxmtyeQnItTe",
        "outputId": "7c6a728f-d163-4481-86d3-e07e790f2e71"
      },
      "execution_count": 2,
      "outputs": [
        {
          "output_type": "stream",
          "name": "stdout",
          "text": [
            "['fortnite', 'minecraft', 'roblox']\n",
            "[1, 'dbd', 2.3, False]\n",
            "Pierwsza pozycja z listy gry to: fortnite\n",
            "['fortnite', 'minecraft', 'roblox', 'cs']\n"
          ]
        }
      ]
    },
    {
      "cell_type": "markdown",
      "source": [
        "##Pętle"
      ],
      "metadata": {
        "id": "imqENnjEIt6Q"
      }
    },
    {
      "cell_type": "code",
      "source": [
        "#pętla while\n",
        "\n",
        "licznik = 0\n",
        "\n",
        "print(\"Pętla while licząca do 5\")\n",
        "while licznik <=5:\n",
        "  print(licznik)\n",
        "  licznik += 1 # licznik = licznik + 1"
      ],
      "metadata": {
        "colab": {
          "base_uri": "https://localhost:8080/"
        },
        "id": "eGbfwgN0IvmN",
        "outputId": "538f92d6-1f33-4cd5-efb0-e4c59dbe70e3"
      },
      "execution_count": null,
      "outputs": [
        {
          "output_type": "stream",
          "name": "stdout",
          "text": [
            "Pętla while licząca do 5\n",
            "0\n",
            "1\n",
            "2\n",
            "3\n",
            "4\n",
            "5\n"
          ]
        }
      ]
    },
    {
      "cell_type": "code",
      "source": [
        "#pętla for\n",
        "for gra in gry:\n",
        "  print(gra)"
      ],
      "metadata": {
        "colab": {
          "base_uri": "https://localhost:8080/"
        },
        "id": "Djd_VPDs8sNA",
        "outputId": "b581496b-2f6a-460a-879e-8bd252955736"
      },
      "execution_count": 4,
      "outputs": [
        {
          "output_type": "stream",
          "name": "stdout",
          "text": [
            "fortnite\n",
            "minecraft\n",
            "roblox\n",
            "cs\n"
          ]
        }
      ]
    },
    {
      "cell_type": "code",
      "source": [
        "#range\n",
        "r = list(range(6))\n",
        "print(r)\n",
        "\n",
        "r2 = list(range(2, 6))\n",
        "print(r2)\n",
        "\n",
        "r3 = list(range(2,6,2))\n",
        "print(r3)"
      ],
      "metadata": {
        "colab": {
          "base_uri": "https://localhost:8080/"
        },
        "id": "_UW7cgay9Hcy",
        "outputId": "be3ff5e2-a03f-4083-df59-ee801019c710"
      },
      "execution_count": 10,
      "outputs": [
        {
          "output_type": "stream",
          "name": "stdout",
          "text": [
            "[0, 1, 2, 3, 4, 5]\n",
            "[2, 3, 4, 5]\n",
            "[2, 4]\n"
          ]
        }
      ]
    },
    {
      "cell_type": "code",
      "source": [
        "#range + for\n",
        "for i in range(2,6):\n",
        "  print(i)"
      ],
      "metadata": {
        "colab": {
          "base_uri": "https://localhost:8080/"
        },
        "id": "TH8_Xxhu9w4k",
        "outputId": "f31ed6c5-03ed-4e15-f588-037f58442894"
      },
      "execution_count": 12,
      "outputs": [
        {
          "output_type": "stream",
          "name": "stdout",
          "text": [
            "2\n",
            "3\n",
            "4\n",
            "5\n"
          ]
        }
      ]
    },
    {
      "cell_type": "markdown",
      "source": [
        "##Słowniki i krotki"
      ],
      "metadata": {
        "id": "zJXclk2kIwEU"
      }
    },
    {
      "cell_type": "code",
      "source": [
        "#slownik\n",
        "\n",
        "slownik = {\n",
        "    \"kot\":\"cat\",\n",
        "    \"pies\" : \"dog\",\n",
        "    \"waz\": \"snake\"\n",
        "}\n",
        "print(slownik[\"pies\"])\n",
        "\n",
        "print(\"Klucze:\")\n",
        "for key in slownik.keys():\n",
        "  print(key)\n",
        "\n",
        "print(\"Wartości\")\n",
        "for value in slownik.values():\n",
        "  print(value)"
      ],
      "metadata": {
        "id": "2ZwmkyBqI6At",
        "colab": {
          "base_uri": "https://localhost:8080/"
        },
        "outputId": "62ff29c0-7e5b-4c43-bfed-4866b284889e"
      },
      "execution_count": 21,
      "outputs": [
        {
          "output_type": "stream",
          "name": "stdout",
          "text": [
            "dog\n",
            "Klucze:\n",
            "kot\n",
            "pies\n",
            "waz\n",
            "Wartości\n",
            "cat\n",
            "dog\n",
            "snake\n"
          ]
        }
      ]
    },
    {
      "cell_type": "code",
      "source": [
        "#krotka\n",
        "wspolrzedne = (2,7)\n",
        "print(f\"Pierwsza wspołrzedna: {wspolrzedne[0]}, druga wspołrzedna:{wspolrzedne[1]}\")\n"
      ],
      "metadata": {
        "colab": {
          "base_uri": "https://localhost:8080/"
        },
        "id": "y8zQyvmHAExy",
        "outputId": "7ba1f582-0bad-4fbb-853f-4c46cbdb0f82"
      },
      "execution_count": 22,
      "outputs": [
        {
          "output_type": "stream",
          "name": "stdout",
          "text": [
            "Pierwsza wspołrzedna: 2, druga wspołrzedna:7\n"
          ]
        }
      ]
    },
    {
      "cell_type": "markdown",
      "source": [
        "##Instrukcje warunkowe"
      ],
      "metadata": {
        "id": "FKbGGAIJI9b3"
      }
    },
    {
      "cell_type": "code",
      "source": [
        "temperatura = float(input(\"Podaj temperature:\"))\n",
        "if temperatura < 20:\n",
        "  print(\"Podwyższam temperature\")\n",
        "elif temperatura > 25:\n",
        "  print(\"Obniżam temperature\")\n",
        "else:\n",
        "  print(\"Temperatura w normie\")\n",
        ""
      ],
      "metadata": {
        "id": "gJIJvH06I-CV",
        "colab": {
          "base_uri": "https://localhost:8080/"
        },
        "outputId": "cbeb1603-6528-4f8c-e025-f443ba909e58"
      },
      "execution_count": 25,
      "outputs": [
        {
          "output_type": "stream",
          "name": "stdout",
          "text": [
            "Podaj temperature:24\n",
            "Temperatura w normie\n"
          ]
        }
      ]
    },
    {
      "cell_type": "markdown",
      "source": [
        "##Funkcje"
      ],
      "metadata": {
        "id": "SOQ2_GOCI-Z9"
      }
    },
    {
      "cell_type": "code",
      "source": [
        "def dodawania(a,b):\n",
        "  return a+b\n",
        "\n",
        "print(dodawania(2,3))"
      ],
      "metadata": {
        "id": "ghv5bEtIJBJi",
        "colab": {
          "base_uri": "https://localhost:8080/"
        },
        "outputId": "55b40e2a-999c-46bf-b286-d7882142c0f4"
      },
      "execution_count": 27,
      "outputs": [
        {
          "output_type": "stream",
          "name": "stdout",
          "text": [
            "5\n"
          ]
        }
      ]
    },
    {
      "cell_type": "code",
      "source": [
        "def operacja(a,b)\n",
        "  return 2*a+b\n",
        "\n",
        "print(operacja(b=3,a=1))\n",
        "print(operacja(b=1,a=3)) #print(operacja(1,3))"
      ],
      "metadata": {
        "id": "w0g_itC6CdHk"
      },
      "execution_count": null,
      "outputs": []
    },
    {
      "cell_type": "markdown",
      "source": [
        "##Obsługa plików"
      ],
      "metadata": {
        "id": "AZW58-rmJBVN"
      }
    },
    {
      "cell_type": "code",
      "source": [
        "# odczytywanie zawartości pliku\n",
        "# open(\"nazwa_pliku\", \"r\")-otwieranie\n",
        "# r - (read) do odczytu\n",
        "# w - (write) do zapisu\n",
        "# a - (append) do dopisywania\n",
        "# close()-zamykanie\n",
        "\n",
        "with open(\"dane.txt\", \"r\") as file:\n",
        "  for line in file:\n",
        "    print(line)"
      ],
      "metadata": {
        "id": "z-lfDP6-JDYF",
        "colab": {
          "base_uri": "https://localhost:8080/"
        },
        "outputId": "bd85df84-e253-4702-e570-dea3ebf1e454"
      },
      "execution_count": 29,
      "outputs": [
        {
          "output_type": "stream",
          "name": "stdout",
          "text": [
            "cs\n",
            "\n",
            "terraria\n",
            "\n",
            "fm24\n"
          ]
        }
      ]
    },
    {
      "cell_type": "code",
      "source": [
        "#dopisywanie do pliku\n",
        "\n",
        "with open(\"dane.txt\", \"a\") as file:\n",
        "  file.write('\\nLUA')"
      ],
      "metadata": {
        "id": "htD2mkWRERIi"
      },
      "execution_count": 30,
      "outputs": []
    },
    {
      "cell_type": "code",
      "source": [
        "#zapis do nowego pliku\n",
        "\n",
        "with open(\"dane2.txt\", \"w\") as file:\n",
        "  file.write('Lubie placki')"
      ],
      "metadata": {
        "id": "w2v1bIR1E-qV"
      },
      "execution_count": 33,
      "outputs": []
    },
    {
      "cell_type": "markdown",
      "source": [
        "## Obsługa wyjątków"
      ],
      "metadata": {
        "id": "J9LrDdc4JDqg"
      }
    },
    {
      "cell_type": "code",
      "source": [
        "\n",
        "try:\n",
        "  dzielna = float(input(\"Podaj dzielną:\"))\n",
        "  dzielnik = float(input(\"Podaj dzielnik:\"))\n",
        "  wynik = dzielna/dzielnik\n",
        "except Exception as e:\n",
        "  print(f\"Bład o treści {e}\")\n",
        "else:\n",
        "  print(\"Kod w try wykonany bez błedu\")\n",
        "  print(f\"{dzielna}/{dzielnik} =  {wynik}\")\n",
        "finally:\n",
        "  print(\"Koniec programu\")\n"
      ],
      "metadata": {
        "id": "U2F2oZl2JJrW",
        "colab": {
          "base_uri": "https://localhost:8080/"
        },
        "outputId": "9c474393-5a33-48fd-be9d-cc8822648c54"
      },
      "execution_count": 36,
      "outputs": [
        {
          "output_type": "stream",
          "name": "stdout",
          "text": [
            "Podaj dzielną:4\n",
            "Podaj dzielnik:2\n",
            "Kod w try wykonany bez błedu\n",
            "4.0/2.0 =  2.0\n",
            "Koniec programu\n"
          ]
        }
      ]
    }
  ]
}