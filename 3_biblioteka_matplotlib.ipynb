{
  "nbformat": 4,
  "nbformat_minor": 0,
  "metadata": {
    "colab": {
      "provenance": [],
      "authorship_tag": "ABX9TyPiBx9Hhnx7XSGmCVbfxvOO",
      "include_colab_link": true
    },
    "kernelspec": {
      "name": "python3",
      "display_name": "Python 3"
    },
    "language_info": {
      "name": "python"
    }
  },
  "cells": [
    {
      "cell_type": "markdown",
      "metadata": {
        "id": "view-in-github",
        "colab_type": "text"
      },
      "source": [
        "<a href=\"https://colab.research.google.com/github/Ciastkk45/kursAI-sb10/blob/main/3_biblioteka_matplotlib.ipynb\" target=\"_parent\"><img src=\"https://colab.research.google.com/assets/colab-badge.svg\" alt=\"Open In Colab\"/></a>"
      ]
    },
    {
      "cell_type": "markdown",
      "source": [
        "Sposób 1 - importowanie całych modułów\n",
        "```\n",
        "import cs\n",
        "import lol\n",
        "cs.map_name()\n",
        "lol.map_name()\n",
        "cs.buy_gun()\n",
        "lol.buy_ardent()\n",
        "```\n",
        "```\n",
        "The Dust 2\n",
        "Summoner's Rift\n",
        "You have bought a gun\n",
        "You have bought an Ardent Censer\n",
        "```\n"
      ],
      "metadata": {
        "id": "0pvrDkyjQUec"
      }
    },
    {
      "cell_type": "markdown",
      "source": [
        "Sposób 2 - importowanie wszystkich elementów z modułu\n",
        "```\n",
        "from lol import *\n",
        "from cs import *\n",
        "\n",
        "map_name() # wywołane z cs bo nadpisuje metode z lol\n",
        "buy_gun()\n",
        "buy_ardent()\n",
        "```\n",
        "```\n",
        "The Dust 2\n",
        "You have bought a gun\n",
        "You have bought an Ardent Censer\n",
        "```"
      ],
      "metadata": {
        "id": "fxMJiRV7RVPo"
      }
    },
    {
      "cell_type": "markdown",
      "source": [
        "Sposób 3 - importowanie wybranych elementów z modułu\n",
        "```\n",
        "from lol import map_name, buy_ardent\n",
        "from cs import buy_gun\n",
        "\n",
        "map_name() #wywołuje z lol bo nie importowaliśmy map_name z cs\n",
        "buy_gun()\n",
        "buy_ardent()\n",
        "```\n",
        "```\n",
        "Summoner's Rift\n",
        "You have bought a gun\n",
        "You have bought an Ardent Censer\n",
        "```"
      ],
      "metadata": {
        "id": "IGqnbIxUSSoZ"
      }
    },
    {
      "cell_type": "markdown",
      "source": [
        "Sposób 4 - importowanie wybranych elementów z modułu i dodanie aliasu na element\n",
        "```\n",
        "from cs import map_name as cs_map\n",
        "from lol import map_name as lol_map\n",
        "\n",
        "cs_map()\n",
        "lol_map()\n",
        "\n",
        "map_name()#ciekawe\n",
        "```\n",
        "```\n",
        "The Dust 2\n",
        "Summoner's Rift\n",
        "Summoner's Rift\n",
        "```"
      ],
      "metadata": {
        "id": "d7UJlR1nTSjO"
      }
    },
    {
      "cell_type": "code",
      "execution_count": 9,
      "metadata": {
        "colab": {
          "base_uri": "https://localhost:8080/"
        },
        "id": "5PLTp_YwOF_T",
        "outputId": "2b939a0e-3bcc-4d6d-f576-fbec2f3f9d1c"
      },
      "outputs": [
        {
          "output_type": "stream",
          "name": "stdout",
          "text": [
            "The Dust 2\n",
            "Summoner's Rift\n",
            "Summoner's Rift\n"
          ]
        }
      ],
      "source": [
        "from cs import map_name as cs_map\n",
        "from lol import map_name as lol_map\n",
        "\n",
        "cs_map()\n",
        "lol_map()\n",
        "\n",
        "map_name()#ciekawe"
      ]
    },
    {
      "cell_type": "markdown",
      "source": [
        "Matplotlib"
      ],
      "metadata": {
        "id": "65VFPljyUF9W"
      }
    },
    {
      "cell_type": "code",
      "source": [
        "!pip freeze | grep matplotlib"
      ],
      "metadata": {
        "colab": {
          "base_uri": "https://localhost:8080/"
        },
        "id": "4JyadU3eUHxt",
        "outputId": "fd5bb2ac-413c-47df-fdf6-eab3f0b4aacf"
      },
      "execution_count": 10,
      "outputs": [
        {
          "output_type": "stream",
          "name": "stdout",
          "text": [
            "matplotlib==3.10.0\n",
            "matplotlib-inline==0.1.7\n",
            "matplotlib-venn==1.1.2\n"
          ]
        }
      ]
    },
    {
      "cell_type": "code",
      "source": [
        "import matplotlib\n",
        "print(matplotlib.__version__)"
      ],
      "metadata": {
        "colab": {
          "base_uri": "https://localhost:8080/"
        },
        "id": "qPouHPvxUYVe",
        "outputId": "a1c29528-f3db-4aa8-de7c-3ed0e5bc3cb6"
      },
      "execution_count": 11,
      "outputs": [
        {
          "output_type": "stream",
          "name": "stdout",
          "text": [
            "3.10.0\n"
          ]
        }
      ]
    }
  ]
}