{
  "nbformat": 4,
  "nbformat_minor": 0,
  "metadata": {
    "colab": {
      "provenance": [],
      "authorship_tag": "ABX9TyOwgnjS9hEh3Ptp+kzPAAqG",
      "include_colab_link": true
    },
    "kernelspec": {
      "name": "python3",
      "display_name": "Python 3"
    },
    "language_info": {
      "name": "python"
    }
  },
  "cells": [
    {
      "cell_type": "markdown",
      "metadata": {
        "id": "view-in-github",
        "colab_type": "text"
      },
      "source": [
        "<a href=\"https://colab.research.google.com/github/Ciastkk45/kursAI-sb10/blob/main/5_statystyka_i_regresja.ipynb\" target=\"_parent\"><img src=\"https://colab.research.google.com/assets/colab-badge.svg\" alt=\"Open In Colab\"/></a>"
      ]
    },
    {
      "cell_type": "code",
      "execution_count": 4,
      "metadata": {
        "colab": {
          "base_uri": "https://localhost:8080/"
        },
        "id": "fCkjvBXJLZ0K",
        "outputId": "3e552122-a505-4ddf-fa8f-ccd8be1ba04d"
      },
      "outputs": [
        {
          "output_type": "stream",
          "name": "stdout",
          "text": [
            "7.6\n"
          ]
        }
      ],
      "source": [
        "#średnia\n",
        "\n",
        "list_of_numbers = [6, 10, 3, 7, 12]\n",
        "\n",
        "def calculate_mean(list_of_numbers):\n",
        "  return sum(list_of_numbers) / len(list_of_numbers)\n",
        "\n",
        "print(calculate_mean(list_of_numbers))"
      ]
    },
    {
      "cell_type": "code",
      "source": [
        "data1 = [6,10,3,7,12]\n",
        "data2 = [6,10,3,7,12,8]\n",
        "\n",
        "def calculate_median(list_of_numbers):\n",
        "  sorted_list = sorted(list_of_numbers)\n",
        "  n = len(sorted_list)\n",
        "  mid =  n // 2\n",
        "  if n % 2  == 1:\n",
        "    return sorted_list[mid]\n",
        "  else:\n",
        "    return (sorted_list[mid - 1] + sorted_list[mid]) / 2\n",
        "\n",
        "print(f\"Median of data1: {calculate_median(data1)}\")\n",
        "print(f\"Median of data2: {calculate_median(data2)}\")\n"
      ],
      "metadata": {
        "colab": {
          "base_uri": "https://localhost:8080/"
        },
        "id": "ahnVRKXpNID1",
        "outputId": "cbf9c974-112c-4dcf-dddb-1bd3ce83989c"
      },
      "execution_count": 8,
      "outputs": [
        {
          "output_type": "stream",
          "name": "stdout",
          "text": [
            "Median of data1: 7\n",
            "Median of data2: 7.5\n"
          ]
        }
      ]
    },
    {
      "cell_type": "code",
      "source": [
        "data = [ 4,2,7,2,8,2,9,7,7]\n",
        "\n",
        "def find_mode(list_of_numbers):\n",
        "  count_occurance = {i: list_of_numbers.count(i) for i in set(list_of_numbers)}\n",
        "  print(count_occurance)\n",
        "  mode = [key for value, key in zip(count_occurance.values(),count_occurance.keys())\\\n",
        "          if value == max(count_occurance.values())]\n",
        "  return mode\n",
        "\n",
        "print(f\"Moda: {find_mode(data)}\")"
      ],
      "metadata": {
        "colab": {
          "base_uri": "https://localhost:8080/"
        },
        "id": "ar3gH8YAQu62",
        "outputId": "c0c8e0cb-e3d1-4022-81e6-7002f9851eec"
      },
      "execution_count": 15,
      "outputs": [
        {
          "output_type": "stream",
          "name": "stdout",
          "text": [
            "{2: 3, 4: 1, 7: 3, 8: 1, 9: 1}\n",
            "Moda: [2, 7]\n"
          ]
        }
      ]
    },
    {
      "cell_type": "code",
      "source": [
        "import statistics\n",
        "import matplotlib.pyplot as plt\n",
        "\n",
        "def calculate_variance(group):\n",
        "  mean = statistics.mean(group)\n",
        "  variance = sum((x-mean)**2 for x in group) / len(group)\n",
        "  return variance, mean\n",
        "\n",
        "groupA = [60, 62, 61, 59, 60]\n",
        "groupB = [58, 61, 60, 60, 61]\n",
        "\n",
        "varianceA, meanA = calculate_variance(groupA)\n",
        "varianceB, meanB = calculate_variance(groupB)\n",
        "\n",
        "print(f\"Wariancja grupa A: {varianceA}\")\n",
        "print(f\"Wariancja grupy B:  {varianceB}\")\n",
        "\n",
        "x_values = list(range(len(groupA)))\n",
        "plt.scatter(x_values, groupA, color =\"blue\", label=\"Group A - dane rzeczywiste\", marker=\"o\")\n",
        "plt.scatter(x_values, groupB, color =\"red\",  label=\"Group B - dane rzeczywiste\", marker=\"s\")\n",
        "\n",
        "y_valuesA = [meanA] * len(groupA)\n",
        "y_valuesB = [meanB] * len(groupB)\n",
        "\n",
        "plt.plot(x_values, y_valuesA, color=\"blue\", linestyle=\"dashed\", label=\"Group A - średnia\")\n",
        "plt.plot(x_values, y_valuesB, color=\"red\", linestyle=\"dashed\", label=\"Group A - średnia\")\n",
        "\n",
        "plt.legend()\n",
        "plt.show()"
      ],
      "metadata": {
        "colab": {
          "base_uri": "https://localhost:8080/",
          "height": 465
        },
        "id": "0oJi17CdTvCI",
        "outputId": "624122d0-1aa7-461d-dfc0-8883e9458e17"
      },
      "execution_count": 23,
      "outputs": [
        {
          "output_type": "stream",
          "name": "stdout",
          "text": [
            "Wariancja grupa A: 1.04\n",
            "Wariancja grupy B:  1.2\n"
          ]
        },
        {
          "output_type": "display_data",
          "data": {
            "text/plain": [
              "<Figure size 640x480 with 1 Axes>"
            ],
            "image/png": "[encoded data removed]"
          },
          "metadata": {}
        }
      ]
    },
    {
      "cell_type": "code",
      "source": [
        "temperature = [10, 12, 14, 16, 18, 20, 22, 24, 26]\n",
        "sold_ice_creams = [20, 30, 40, 80, 90, 50, 130, 160, 200]\n",
        "\n",
        "def correlation(x, y):\n",
        "  mean_x = sum(x)/len(x)\n",
        "  mean_y = sum(y)/len(y)\n",
        "\n",
        "  numenator  = 0\n",
        "  for value_x, value_y in zip(x,y):\n",
        "    numenator += (value_x - mean_x) * (value_y - mean_y)\n",
        "\n",
        "  denominator_x =  0\n",
        "  denominator_y = 0\n",
        "\n",
        "  for value_x, value_y in zip(x,y):\n",
        "    denominator_x += (value_x - mean_x)**2\n",
        "    denominator_y += (value_y - mean_y)**2\n",
        "  denominator=(denominator_x * denominator_y)**0.5\n",
        "  return numenator / denominator\n",
        "\n",
        "  pass\n",
        "\n",
        "print(f\"Współczynnik korelacji: {correlation(temperature,sold_ice_creams):.2f}\")"
      ],
      "metadata": {
        "colab": {
          "base_uri": "https://localhost:8080/"
        },
        "id": "cCMG_eQyYBtM",
        "outputId": "74b9ad4a-8016-44af-bf6c-dc6efc97701d"
      },
      "execution_count": 36,
      "outputs": [
        {
          "output_type": "stream",
          "name": "stdout",
          "text": [
            "Współczynnik korelacji: 0.92\n"
          ]
        }
      ]
    }
  ]
}